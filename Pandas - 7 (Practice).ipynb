{
 "cells": [
  {
   "cell_type": "markdown",
   "id": "6ab6692d",
   "metadata": {},
   "source": [
    "# Dealing with missing values"
   ]
  },
  {
   "cell_type": "code",
   "execution_count": 2,
   "id": "13ca5e5a",
   "metadata": {},
   "outputs": [],
   "source": [
    "# Pandas manages empty cells with Nan values. Let's say if in our data set there are some missing values.\n",
    "# Pandas automatically manages it with nan values so it doesn't raise an error\n",
    "# when we have a column filled with ints or floats then pandas manages it with NAN.\n",
    "# OR let's say if we have object dtype column then it may assign it with None."
   ]
  },
  {
   "cell_type": "code",
   "execution_count": 3,
   "id": "23ce215a",
   "metadata": {},
   "outputs": [],
   "source": [
    "# Let's take some examples"
   ]
  },
  {
   "cell_type": "code",
   "execution_count": 5,
   "id": "17e60577",
   "metadata": {},
   "outputs": [],
   "source": [
    "import numpy as np\n",
    "import pandas as pd"
   ]
  },
  {
   "cell_type": "code",
   "execution_count": 7,
   "id": "ce63f8bf",
   "metadata": {},
   "outputs": [
    {
     "data": {
      "text/plain": [
       "0    1.0\n",
       "1    NaN\n",
       "2    2.0\n",
       "dtype: float64"
      ]
     },
     "execution_count": 7,
     "metadata": {},
     "output_type": "execute_result"
    }
   ],
   "source": [
    "pd.Series([1,np.nan,2])\n",
    "\n",
    "# so you see nan is nothing but a very small floating integer.\n",
    "# That's why it type casted everything with float values"
   ]
  },
  {
   "cell_type": "code",
   "execution_count": 9,
   "id": "11b12baa",
   "metadata": {},
   "outputs": [
    {
     "data": {
      "text/plain": [
       "0    1.0\n",
       "1    NaN\n",
       "2    2.0\n",
       "3    NaN\n",
       "dtype: float64"
      ]
     },
     "execution_count": 9,
     "metadata": {},
     "output_type": "execute_result"
    }
   ],
   "source": [
    "pd.Series([1,np.nan,2,None])\n",
    "\n",
    "# It converted even None to Nan"
   ]
  },
  {
   "cell_type": "code",
   "execution_count": 11,
   "id": "688b6bcf",
   "metadata": {},
   "outputs": [
    {
     "data": {
      "text/plain": [
       "0       1\n",
       "1       2\n",
       "2       3\n",
       "3     NaN\n",
       "4    None\n",
       "dtype: object"
      ]
     },
     "execution_count": 11,
     "metadata": {},
     "output_type": "execute_result"
    }
   ],
   "source": [
    "a = pd.Series(['1','2','3',np.nan,None])\n",
    "a\n",
    "\n",
    "# None can not convert nan into none.\n",
    "# even though nan is there but overall our dtype is an object\n",
    "# but if we check for individual values nan is still a float"
   ]
  },
  {
   "cell_type": "code",
   "execution_count": 14,
   "id": "1bf98143",
   "metadata": {},
   "outputs": [
    {
     "data": {
      "text/plain": [
       "float"
      ]
     },
     "execution_count": 14,
     "metadata": {},
     "output_type": "execute_result"
    }
   ],
   "source": [
    "type(a[3])"
   ]
  },
  {
   "cell_type": "markdown",
   "id": "459ebe3e",
   "metadata": {},
   "source": [
    "### Calculating missing values row wise and column wise"
   ]
  },
  {
   "cell_type": "code",
   "execution_count": 16,
   "id": "ede748ca",
   "metadata": {},
   "outputs": [],
   "source": [
    "df2 = pd.DataFrame([[np.nan,2,np.nan,0],\n",
    "                   [3,4,np.nan,1],\n",
    "                   [np.nan,3,np.nan,4]],\n",
    "                   columns = ['A','B','C','D'])"
   ]
  },
  {
   "cell_type": "code",
   "execution_count": 19,
   "id": "f59b59b4",
   "metadata": {},
   "outputs": [
    {
     "data": {
      "text/html": [
       "<div>\n",
       "<style scoped>\n",
       "    .dataframe tbody tr th:only-of-type {\n",
       "        vertical-align: middle;\n",
       "    }\n",
       "\n",
       "    .dataframe tbody tr th {\n",
       "        vertical-align: top;\n",
       "    }\n",
       "\n",
       "    .dataframe thead th {\n",
       "        text-align: right;\n",
       "    }\n",
       "</style>\n",
       "<table border=\"1\" class=\"dataframe\">\n",
       "  <thead>\n",
       "    <tr style=\"text-align: right;\">\n",
       "      <th></th>\n",
       "      <th>A</th>\n",
       "      <th>B</th>\n",
       "      <th>C</th>\n",
       "      <th>D</th>\n",
       "    </tr>\n",
       "  </thead>\n",
       "  <tbody>\n",
       "    <tr>\n",
       "      <th>0</th>\n",
       "      <td>NaN</td>\n",
       "      <td>2</td>\n",
       "      <td>NaN</td>\n",
       "      <td>0</td>\n",
       "    </tr>\n",
       "    <tr>\n",
       "      <th>1</th>\n",
       "      <td>3.0</td>\n",
       "      <td>4</td>\n",
       "      <td>NaN</td>\n",
       "      <td>1</td>\n",
       "    </tr>\n",
       "    <tr>\n",
       "      <th>2</th>\n",
       "      <td>NaN</td>\n",
       "      <td>3</td>\n",
       "      <td>NaN</td>\n",
       "      <td>4</td>\n",
       "    </tr>\n",
       "  </tbody>\n",
       "</table>\n",
       "</div>"
      ],
      "text/plain": [
       "     A  B   C  D\n",
       "0  NaN  2 NaN  0\n",
       "1  3.0  4 NaN  1\n",
       "2  NaN  3 NaN  4"
      ]
     },
     "execution_count": 19,
     "metadata": {},
     "output_type": "execute_result"
    }
   ],
   "source": [
    "df2\n"
   ]
  },
  {
   "cell_type": "code",
   "execution_count": 20,
   "id": "61523ab8",
   "metadata": {},
   "outputs": [
    {
     "data": {
      "text/html": [
       "<div>\n",
       "<style scoped>\n",
       "    .dataframe tbody tr th:only-of-type {\n",
       "        vertical-align: middle;\n",
       "    }\n",
       "\n",
       "    .dataframe tbody tr th {\n",
       "        vertical-align: top;\n",
       "    }\n",
       "\n",
       "    .dataframe thead th {\n",
       "        text-align: right;\n",
       "    }\n",
       "</style>\n",
       "<table border=\"1\" class=\"dataframe\">\n",
       "  <thead>\n",
       "    <tr style=\"text-align: right;\">\n",
       "      <th></th>\n",
       "      <th>A</th>\n",
       "      <th>B</th>\n",
       "      <th>C</th>\n",
       "      <th>D</th>\n",
       "    </tr>\n",
       "  </thead>\n",
       "  <tbody>\n",
       "    <tr>\n",
       "      <th>0</th>\n",
       "      <td>True</td>\n",
       "      <td>False</td>\n",
       "      <td>True</td>\n",
       "      <td>False</td>\n",
       "    </tr>\n",
       "    <tr>\n",
       "      <th>1</th>\n",
       "      <td>False</td>\n",
       "      <td>False</td>\n",
       "      <td>True</td>\n",
       "      <td>False</td>\n",
       "    </tr>\n",
       "    <tr>\n",
       "      <th>2</th>\n",
       "      <td>True</td>\n",
       "      <td>False</td>\n",
       "      <td>True</td>\n",
       "      <td>False</td>\n",
       "    </tr>\n",
       "  </tbody>\n",
       "</table>\n",
       "</div>"
      ],
      "text/plain": [
       "       A      B     C      D\n",
       "0   True  False  True  False\n",
       "1  False  False  True  False\n",
       "2   True  False  True  False"
      ]
     },
     "execution_count": 20,
     "metadata": {},
     "output_type": "execute_result"
    }
   ],
   "source": [
    "# we have this function isna . it returns us a boolean matrix. let's say if a cell has nan value, it returns True else False\n",
    "\n",
    "df2.isna()\n"
   ]
  },
  {
   "cell_type": "code",
   "execution_count": 21,
   "id": "4ac3d889",
   "metadata": {},
   "outputs": [],
   "source": [
    "# How to find out nan values across the different axis, even after we know that pd.isna() doesn't have any parameter axis"
   ]
  },
  {
   "cell_type": "code",
   "execution_count": 22,
   "id": "5e1ec92b",
   "metadata": {},
   "outputs": [
    {
     "data": {
      "text/plain": [
       "0    2\n",
       "1    1\n",
       "2    2\n",
       "dtype: int64"
      ]
     },
     "execution_count": 22,
     "metadata": {},
     "output_type": "execute_result"
    }
   ],
   "source": [
    "df2.isna().sum(axis = 1)"
   ]
  },
  {
   "cell_type": "code",
   "execution_count": 24,
   "id": "dced995e",
   "metadata": {},
   "outputs": [
    {
     "data": {
      "text/plain": [
       "A    2\n",
       "B    0\n",
       "C    3\n",
       "D    0\n",
       "dtype: int64"
      ]
     },
     "execution_count": 24,
     "metadata": {},
     "output_type": "execute_result"
    }
   ],
   "source": [
    "df2.isna().sum()\n",
    "\n",
    "# by default axis = 0\n",
    "# the sum function is taking True, False as binary digits. "
   ]
  },
  {
   "cell_type": "code",
   "execution_count": 26,
   "id": "d0f297d7",
   "metadata": {},
   "outputs": [
    {
     "data": {
      "text/plain": [
       "1.67"
      ]
     },
     "execution_count": 26,
     "metadata": {},
     "output_type": "execute_result"
    }
   ],
   "source": [
    "df2['D'].mean().round(2)"
   ]
  },
  {
   "cell_type": "code",
   "execution_count": 28,
   "id": "17e66bea",
   "metadata": {},
   "outputs": [
    {
     "data": {
      "text/plain": [
       "3.0"
      ]
     },
     "execution_count": 28,
     "metadata": {},
     "output_type": "execute_result"
    }
   ],
   "source": [
    "# But how it behaves when we have nan in our column cells?\n",
    "# it is not calculating rows where we have nan values\n",
    "\n",
    "df2['A'].mean()"
   ]
  },
  {
   "cell_type": "markdown",
   "id": "d1357b79",
   "metadata": {},
   "source": [
    "# FILLING NAN VALUES"
   ]
  },
  {
   "cell_type": "code",
   "execution_count": 30,
   "id": "6272f331",
   "metadata": {},
   "outputs": [
    {
     "data": {
      "text/html": [
       "<div>\n",
       "<style scoped>\n",
       "    .dataframe tbody tr th:only-of-type {\n",
       "        vertical-align: middle;\n",
       "    }\n",
       "\n",
       "    .dataframe tbody tr th {\n",
       "        vertical-align: top;\n",
       "    }\n",
       "\n",
       "    .dataframe thead th {\n",
       "        text-align: right;\n",
       "    }\n",
       "</style>\n",
       "<table border=\"1\" class=\"dataframe\">\n",
       "  <thead>\n",
       "    <tr style=\"text-align: right;\">\n",
       "      <th></th>\n",
       "      <th>A</th>\n",
       "      <th>B</th>\n",
       "      <th>C</th>\n",
       "      <th>D</th>\n",
       "    </tr>\n",
       "  </thead>\n",
       "  <tbody>\n",
       "    <tr>\n",
       "      <th>0</th>\n",
       "      <td>2.0</td>\n",
       "      <td>2</td>\n",
       "      <td>2.0</td>\n",
       "      <td>0</td>\n",
       "    </tr>\n",
       "    <tr>\n",
       "      <th>1</th>\n",
       "      <td>3.0</td>\n",
       "      <td>4</td>\n",
       "      <td>2.0</td>\n",
       "      <td>1</td>\n",
       "    </tr>\n",
       "    <tr>\n",
       "      <th>2</th>\n",
       "      <td>2.0</td>\n",
       "      <td>3</td>\n",
       "      <td>2.0</td>\n",
       "      <td>4</td>\n",
       "    </tr>\n",
       "  </tbody>\n",
       "</table>\n",
       "</div>"
      ],
      "text/plain": [
       "     A  B    C  D\n",
       "0  2.0  2  2.0  0\n",
       "1  3.0  4  2.0  1\n",
       "2  2.0  3  2.0  4"
      ]
     },
     "execution_count": 30,
     "metadata": {},
     "output_type": "execute_result"
    }
   ],
   "source": [
    "df2.fillna(2)\n",
    "\n",
    "# filled a scalar value in our dataset"
   ]
  },
  {
   "cell_type": "code",
   "execution_count": 32,
   "id": "5c4cd91c",
   "metadata": {},
   "outputs": [
    {
     "data": {
      "text/html": [
       "<div>\n",
       "<style scoped>\n",
       "    .dataframe tbody tr th:only-of-type {\n",
       "        vertical-align: middle;\n",
       "    }\n",
       "\n",
       "    .dataframe tbody tr th {\n",
       "        vertical-align: top;\n",
       "    }\n",
       "\n",
       "    .dataframe thead th {\n",
       "        text-align: right;\n",
       "    }\n",
       "</style>\n",
       "<table border=\"1\" class=\"dataframe\">\n",
       "  <thead>\n",
       "    <tr style=\"text-align: right;\">\n",
       "      <th></th>\n",
       "      <th>A</th>\n",
       "      <th>B</th>\n",
       "      <th>C</th>\n",
       "      <th>D</th>\n",
       "    </tr>\n",
       "  </thead>\n",
       "  <tbody>\n",
       "    <tr>\n",
       "      <th>0</th>\n",
       "      <td>3.0</td>\n",
       "      <td>2</td>\n",
       "      <td>3.0</td>\n",
       "      <td>0</td>\n",
       "    </tr>\n",
       "    <tr>\n",
       "      <th>1</th>\n",
       "      <td>3.0</td>\n",
       "      <td>4</td>\n",
       "      <td>3.0</td>\n",
       "      <td>1</td>\n",
       "    </tr>\n",
       "    <tr>\n",
       "      <th>2</th>\n",
       "      <td>3.0</td>\n",
       "      <td>3</td>\n",
       "      <td>3.0</td>\n",
       "      <td>4</td>\n",
       "    </tr>\n",
       "  </tbody>\n",
       "</table>\n",
       "</div>"
      ],
      "text/plain": [
       "     A  B    C  D\n",
       "0  3.0  2  3.0  0\n",
       "1  3.0  4  3.0  1\n",
       "2  3.0  3  3.0  4"
      ]
     },
     "execution_count": 32,
     "metadata": {},
     "output_type": "execute_result"
    }
   ],
   "source": [
    "# But this doesn't make sense for the entire data set.\n",
    "\n",
    "df2.fillna(df2['A'].mean())\n",
    "\n"
   ]
  },
  {
   "cell_type": "code",
   "execution_count": 35,
   "id": "46e016d7",
   "metadata": {},
   "outputs": [
    {
     "data": {
      "text/plain": [
       "0    3.0\n",
       "1    3.0\n",
       "2    3.0\n",
       "Name: A, dtype: float64"
      ]
     },
     "execution_count": 35,
     "metadata": {},
     "output_type": "execute_result"
    }
   ],
   "source": [
    "# This doesn't make any sense either\n",
    "\n",
    "df2['A'].fillna(df2['A'].mean())\n",
    "\n",
    "# Remember inplace is required if you want a permanent change"
   ]
  },
  {
   "cell_type": "code",
   "execution_count": 37,
   "id": "2bf8e0f4",
   "metadata": {},
   "outputs": [
    {
     "data": {
      "text/html": [
       "<div>\n",
       "<style scoped>\n",
       "    .dataframe tbody tr th:only-of-type {\n",
       "        vertical-align: middle;\n",
       "    }\n",
       "\n",
       "    .dataframe tbody tr th {\n",
       "        vertical-align: top;\n",
       "    }\n",
       "\n",
       "    .dataframe thead th {\n",
       "        text-align: right;\n",
       "    }\n",
       "</style>\n",
       "<table border=\"1\" class=\"dataframe\">\n",
       "  <thead>\n",
       "    <tr style=\"text-align: right;\">\n",
       "      <th></th>\n",
       "      <th>A</th>\n",
       "      <th>B</th>\n",
       "      <th>C</th>\n",
       "      <th>D</th>\n",
       "    </tr>\n",
       "  </thead>\n",
       "  <tbody>\n",
       "    <tr>\n",
       "      <th>0</th>\n",
       "      <td>NaN</td>\n",
       "      <td>2</td>\n",
       "      <td>NaN</td>\n",
       "      <td>0</td>\n",
       "    </tr>\n",
       "    <tr>\n",
       "      <th>1</th>\n",
       "      <td>3.0</td>\n",
       "      <td>4</td>\n",
       "      <td>NaN</td>\n",
       "      <td>1</td>\n",
       "    </tr>\n",
       "    <tr>\n",
       "      <th>2</th>\n",
       "      <td>3.0</td>\n",
       "      <td>3</td>\n",
       "      <td>NaN</td>\n",
       "      <td>4</td>\n",
       "    </tr>\n",
       "  </tbody>\n",
       "</table>\n",
       "</div>"
      ],
      "text/plain": [
       "     A  B   C  D\n",
       "0  NaN  2 NaN  0\n",
       "1  3.0  4 NaN  1\n",
       "2  3.0  3 NaN  4"
      ]
     },
     "execution_count": 37,
     "metadata": {},
     "output_type": "execute_result"
    }
   ],
   "source": [
    "# this method filled the missing values with the last value\n",
    "\n",
    "df2.fillna(method = 'ffill')"
   ]
  },
  {
   "cell_type": "code",
   "execution_count": 39,
   "id": "a6b60b08",
   "metadata": {},
   "outputs": [
    {
     "data": {
      "text/html": [
       "<div>\n",
       "<style scoped>\n",
       "    .dataframe tbody tr th:only-of-type {\n",
       "        vertical-align: middle;\n",
       "    }\n",
       "\n",
       "    .dataframe tbody tr th {\n",
       "        vertical-align: top;\n",
       "    }\n",
       "\n",
       "    .dataframe thead th {\n",
       "        text-align: right;\n",
       "    }\n",
       "</style>\n",
       "<table border=\"1\" class=\"dataframe\">\n",
       "  <thead>\n",
       "    <tr style=\"text-align: right;\">\n",
       "      <th></th>\n",
       "      <th>A</th>\n",
       "      <th>B</th>\n",
       "      <th>C</th>\n",
       "      <th>D</th>\n",
       "    </tr>\n",
       "  </thead>\n",
       "  <tbody>\n",
       "    <tr>\n",
       "      <th>0</th>\n",
       "      <td>3.0</td>\n",
       "      <td>2</td>\n",
       "      <td>NaN</td>\n",
       "      <td>0</td>\n",
       "    </tr>\n",
       "    <tr>\n",
       "      <th>1</th>\n",
       "      <td>3.0</td>\n",
       "      <td>4</td>\n",
       "      <td>NaN</td>\n",
       "      <td>1</td>\n",
       "    </tr>\n",
       "    <tr>\n",
       "      <th>2</th>\n",
       "      <td>NaN</td>\n",
       "      <td>3</td>\n",
       "      <td>NaN</td>\n",
       "      <td>4</td>\n",
       "    </tr>\n",
       "  </tbody>\n",
       "</table>\n",
       "</div>"
      ],
      "text/plain": [
       "     A  B   C  D\n",
       "0  3.0  2 NaN  0\n",
       "1  3.0  4 NaN  1\n",
       "2  NaN  3 NaN  4"
      ]
     },
     "execution_count": 39,
     "metadata": {},
     "output_type": "execute_result"
    }
   ],
   "source": [
    "df2.fillna(method = 'bfill')"
   ]
  },
  {
   "cell_type": "code",
   "execution_count": 41,
   "id": "2e9e79a7",
   "metadata": {},
   "outputs": [
    {
     "data": {
      "text/html": [
       "<div>\n",
       "<style scoped>\n",
       "    .dataframe tbody tr th:only-of-type {\n",
       "        vertical-align: middle;\n",
       "    }\n",
       "\n",
       "    .dataframe tbody tr th {\n",
       "        vertical-align: top;\n",
       "    }\n",
       "\n",
       "    .dataframe thead th {\n",
       "        text-align: right;\n",
       "    }\n",
       "</style>\n",
       "<table border=\"1\" class=\"dataframe\">\n",
       "  <thead>\n",
       "    <tr style=\"text-align: right;\">\n",
       "      <th></th>\n",
       "      <th>A</th>\n",
       "      <th>B</th>\n",
       "      <th>C</th>\n",
       "      <th>D</th>\n",
       "    </tr>\n",
       "  </thead>\n",
       "  <tbody>\n",
       "    <tr>\n",
       "      <th>0</th>\n",
       "      <td>3.0</td>\n",
       "      <td>2</td>\n",
       "      <td>NaN</td>\n",
       "      <td>0</td>\n",
       "    </tr>\n",
       "    <tr>\n",
       "      <th>1</th>\n",
       "      <td>3.0</td>\n",
       "      <td>4</td>\n",
       "      <td>NaN</td>\n",
       "      <td>1</td>\n",
       "    </tr>\n",
       "    <tr>\n",
       "      <th>2</th>\n",
       "      <td>NaN</td>\n",
       "      <td>3</td>\n",
       "      <td>NaN</td>\n",
       "      <td>4</td>\n",
       "    </tr>\n",
       "  </tbody>\n",
       "</table>\n",
       "</div>"
      ],
      "text/plain": [
       "     A  B   C  D\n",
       "0  3.0  2 NaN  0\n",
       "1  3.0  4 NaN  1\n",
       "2  NaN  3 NaN  4"
      ]
     },
     "execution_count": 41,
     "metadata": {},
     "output_type": "execute_result"
    }
   ],
   "source": [
    "df2.fillna(method = 'backfill')"
   ]
  },
  {
   "cell_type": "code",
   "execution_count": 42,
   "id": "9a79ca86",
   "metadata": {},
   "outputs": [],
   "source": [
    "# now let's work with our pfizer data set"
   ]
  },
  {
   "cell_type": "code",
   "execution_count": 77,
   "id": "620e1372",
   "metadata": {},
   "outputs": [],
   "source": [
    "df = pd.read_csv(\"C:/Users/htc/Downloads/Pfizer_1.csv\")"
   ]
  },
  {
   "cell_type": "code",
   "execution_count": 78,
   "id": "3402f115",
   "metadata": {},
   "outputs": [
    {
     "data": {
      "text/html": [
       "<div>\n",
       "<style scoped>\n",
       "    .dataframe tbody tr th:only-of-type {\n",
       "        vertical-align: middle;\n",
       "    }\n",
       "\n",
       "    .dataframe tbody tr th {\n",
       "        vertical-align: top;\n",
       "    }\n",
       "\n",
       "    .dataframe thead th {\n",
       "        text-align: right;\n",
       "    }\n",
       "</style>\n",
       "<table border=\"1\" class=\"dataframe\">\n",
       "  <thead>\n",
       "    <tr style=\"text-align: right;\">\n",
       "      <th></th>\n",
       "      <th>Date</th>\n",
       "      <th>Drug_Name</th>\n",
       "      <th>Parameter</th>\n",
       "      <th>1:30:00</th>\n",
       "      <th>2:30:00</th>\n",
       "      <th>3:30:00</th>\n",
       "      <th>4:30:00</th>\n",
       "      <th>5:30:00</th>\n",
       "      <th>6:30:00</th>\n",
       "      <th>7:30:00</th>\n",
       "      <th>8:30:00</th>\n",
       "      <th>9:30:00</th>\n",
       "      <th>10:30:00</th>\n",
       "      <th>11:30:00</th>\n",
       "      <th>12:30:00</th>\n",
       "    </tr>\n",
       "  </thead>\n",
       "  <tbody>\n",
       "    <tr>\n",
       "      <th>0</th>\n",
       "      <td>15-10-2020</td>\n",
       "      <td>diltiazem hydrochloride</td>\n",
       "      <td>Temperature</td>\n",
       "      <td>23.0</td>\n",
       "      <td>22.0</td>\n",
       "      <td>NaN</td>\n",
       "      <td>21.0</td>\n",
       "      <td>21.0</td>\n",
       "      <td>22</td>\n",
       "      <td>23.0</td>\n",
       "      <td>21.0</td>\n",
       "      <td>22.0</td>\n",
       "      <td>20</td>\n",
       "      <td>20.0</td>\n",
       "      <td>21</td>\n",
       "    </tr>\n",
       "    <tr>\n",
       "      <th>1</th>\n",
       "      <td>15-10-2020</td>\n",
       "      <td>diltiazem hydrochloride</td>\n",
       "      <td>Pressure</td>\n",
       "      <td>12.0</td>\n",
       "      <td>13.0</td>\n",
       "      <td>NaN</td>\n",
       "      <td>11.0</td>\n",
       "      <td>13.0</td>\n",
       "      <td>14</td>\n",
       "      <td>16.0</td>\n",
       "      <td>16.0</td>\n",
       "      <td>24.0</td>\n",
       "      <td>18</td>\n",
       "      <td>19.0</td>\n",
       "      <td>20</td>\n",
       "    </tr>\n",
       "    <tr>\n",
       "      <th>2</th>\n",
       "      <td>15-10-2020</td>\n",
       "      <td>docetaxel injection</td>\n",
       "      <td>Temperature</td>\n",
       "      <td>NaN</td>\n",
       "      <td>17.0</td>\n",
       "      <td>18.0</td>\n",
       "      <td>NaN</td>\n",
       "      <td>17.0</td>\n",
       "      <td>18</td>\n",
       "      <td>NaN</td>\n",
       "      <td>NaN</td>\n",
       "      <td>23.0</td>\n",
       "      <td>23</td>\n",
       "      <td>25.0</td>\n",
       "      <td>25</td>\n",
       "    </tr>\n",
       "    <tr>\n",
       "      <th>3</th>\n",
       "      <td>15-10-2020</td>\n",
       "      <td>docetaxel injection</td>\n",
       "      <td>Pressure</td>\n",
       "      <td>NaN</td>\n",
       "      <td>22.0</td>\n",
       "      <td>22.0</td>\n",
       "      <td>NaN</td>\n",
       "      <td>22.0</td>\n",
       "      <td>23</td>\n",
       "      <td>NaN</td>\n",
       "      <td>NaN</td>\n",
       "      <td>27.0</td>\n",
       "      <td>26</td>\n",
       "      <td>29.0</td>\n",
       "      <td>28</td>\n",
       "    </tr>\n",
       "    <tr>\n",
       "      <th>4</th>\n",
       "      <td>15-10-2020</td>\n",
       "      <td>ketamine hydrochloride</td>\n",
       "      <td>Temperature</td>\n",
       "      <td>24.0</td>\n",
       "      <td>NaN</td>\n",
       "      <td>NaN</td>\n",
       "      <td>27.0</td>\n",
       "      <td>NaN</td>\n",
       "      <td>26</td>\n",
       "      <td>25.0</td>\n",
       "      <td>24.0</td>\n",
       "      <td>23.0</td>\n",
       "      <td>22</td>\n",
       "      <td>21.0</td>\n",
       "      <td>20</td>\n",
       "    </tr>\n",
       "    <tr>\n",
       "      <th>5</th>\n",
       "      <td>15-10-2020</td>\n",
       "      <td>ketamine hydrochloride</td>\n",
       "      <td>Pressure</td>\n",
       "      <td>8.0</td>\n",
       "      <td>NaN</td>\n",
       "      <td>NaN</td>\n",
       "      <td>7.0</td>\n",
       "      <td>NaN</td>\n",
       "      <td>9</td>\n",
       "      <td>10.0</td>\n",
       "      <td>11.0</td>\n",
       "      <td>10.0</td>\n",
       "      <td>9</td>\n",
       "      <td>9.0</td>\n",
       "      <td>11</td>\n",
       "    </tr>\n",
       "    <tr>\n",
       "      <th>6</th>\n",
       "      <td>16-10-2020</td>\n",
       "      <td>diltiazem hydrochloride</td>\n",
       "      <td>Temperature</td>\n",
       "      <td>34.0</td>\n",
       "      <td>35.0</td>\n",
       "      <td>36.0</td>\n",
       "      <td>36.0</td>\n",
       "      <td>37.0</td>\n",
       "      <td>38</td>\n",
       "      <td>37.0</td>\n",
       "      <td>38.0</td>\n",
       "      <td>39.0</td>\n",
       "      <td>40</td>\n",
       "      <td>NaN</td>\n",
       "      <td>42</td>\n",
       "    </tr>\n",
       "    <tr>\n",
       "      <th>7</th>\n",
       "      <td>16-10-2020</td>\n",
       "      <td>diltiazem hydrochloride</td>\n",
       "      <td>Pressure</td>\n",
       "      <td>18.0</td>\n",
       "      <td>19.0</td>\n",
       "      <td>20.0</td>\n",
       "      <td>21.0</td>\n",
       "      <td>22.0</td>\n",
       "      <td>23</td>\n",
       "      <td>24.0</td>\n",
       "      <td>25.0</td>\n",
       "      <td>25.0</td>\n",
       "      <td>24</td>\n",
       "      <td>NaN</td>\n",
       "      <td>27</td>\n",
       "    </tr>\n",
       "    <tr>\n",
       "      <th>8</th>\n",
       "      <td>16-10-2020</td>\n",
       "      <td>docetaxel injection</td>\n",
       "      <td>Temperature</td>\n",
       "      <td>46.0</td>\n",
       "      <td>47.0</td>\n",
       "      <td>NaN</td>\n",
       "      <td>48.0</td>\n",
       "      <td>48.0</td>\n",
       "      <td>49</td>\n",
       "      <td>50.0</td>\n",
       "      <td>52.0</td>\n",
       "      <td>55.0</td>\n",
       "      <td>56</td>\n",
       "      <td>57.0</td>\n",
       "      <td>58</td>\n",
       "    </tr>\n",
       "    <tr>\n",
       "      <th>9</th>\n",
       "      <td>16-10-2020</td>\n",
       "      <td>docetaxel injection</td>\n",
       "      <td>Pressure</td>\n",
       "      <td>23.0</td>\n",
       "      <td>24.0</td>\n",
       "      <td>NaN</td>\n",
       "      <td>25.0</td>\n",
       "      <td>26.0</td>\n",
       "      <td>27</td>\n",
       "      <td>28.0</td>\n",
       "      <td>29.0</td>\n",
       "      <td>28.0</td>\n",
       "      <td>28</td>\n",
       "      <td>29.0</td>\n",
       "      <td>30</td>\n",
       "    </tr>\n",
       "    <tr>\n",
       "      <th>10</th>\n",
       "      <td>16-10-2020</td>\n",
       "      <td>ketamine hydrochloride</td>\n",
       "      <td>Temperature</td>\n",
       "      <td>8.0</td>\n",
       "      <td>9.0</td>\n",
       "      <td>10.0</td>\n",
       "      <td>NaN</td>\n",
       "      <td>11.0</td>\n",
       "      <td>12</td>\n",
       "      <td>12.0</td>\n",
       "      <td>11.0</td>\n",
       "      <td>NaN</td>\n",
       "      <td>13</td>\n",
       "      <td>14.0</td>\n",
       "      <td>15</td>\n",
       "    </tr>\n",
       "    <tr>\n",
       "      <th>11</th>\n",
       "      <td>16-10-2020</td>\n",
       "      <td>ketamine hydrochloride</td>\n",
       "      <td>Pressure</td>\n",
       "      <td>12.0</td>\n",
       "      <td>12.0</td>\n",
       "      <td>13.0</td>\n",
       "      <td>NaN</td>\n",
       "      <td>15.0</td>\n",
       "      <td>15</td>\n",
       "      <td>15.0</td>\n",
       "      <td>15.0</td>\n",
       "      <td>NaN</td>\n",
       "      <td>16</td>\n",
       "      <td>17.0</td>\n",
       "      <td>18</td>\n",
       "    </tr>\n",
       "    <tr>\n",
       "      <th>12</th>\n",
       "      <td>17-10-2020</td>\n",
       "      <td>diltiazem hydrochloride</td>\n",
       "      <td>Temperature</td>\n",
       "      <td>20.0</td>\n",
       "      <td>19.0</td>\n",
       "      <td>19.0</td>\n",
       "      <td>18.0</td>\n",
       "      <td>17.0</td>\n",
       "      <td>16</td>\n",
       "      <td>15.0</td>\n",
       "      <td>NaN</td>\n",
       "      <td>13.0</td>\n",
       "      <td>14</td>\n",
       "      <td>11.0</td>\n",
       "      <td>10</td>\n",
       "    </tr>\n",
       "    <tr>\n",
       "      <th>13</th>\n",
       "      <td>17-10-2020</td>\n",
       "      <td>diltiazem hydrochloride</td>\n",
       "      <td>Pressure</td>\n",
       "      <td>3.0</td>\n",
       "      <td>4.0</td>\n",
       "      <td>4.0</td>\n",
       "      <td>4.0</td>\n",
       "      <td>6.0</td>\n",
       "      <td>8</td>\n",
       "      <td>9.0</td>\n",
       "      <td>NaN</td>\n",
       "      <td>9.0</td>\n",
       "      <td>11</td>\n",
       "      <td>13.0</td>\n",
       "      <td>14</td>\n",
       "    </tr>\n",
       "    <tr>\n",
       "      <th>14</th>\n",
       "      <td>17-10-2020</td>\n",
       "      <td>docetaxel injection</td>\n",
       "      <td>Temperature</td>\n",
       "      <td>12.0</td>\n",
       "      <td>13.0</td>\n",
       "      <td>14.0</td>\n",
       "      <td>15.0</td>\n",
       "      <td>16.0</td>\n",
       "      <td>17</td>\n",
       "      <td>18.0</td>\n",
       "      <td>19.0</td>\n",
       "      <td>20.0</td>\n",
       "      <td>21</td>\n",
       "      <td>22.0</td>\n",
       "      <td>23</td>\n",
       "    </tr>\n",
       "    <tr>\n",
       "      <th>15</th>\n",
       "      <td>17-10-2020</td>\n",
       "      <td>docetaxel injection</td>\n",
       "      <td>Pressure</td>\n",
       "      <td>20.0</td>\n",
       "      <td>22.0</td>\n",
       "      <td>22.0</td>\n",
       "      <td>22.0</td>\n",
       "      <td>22.0</td>\n",
       "      <td>23</td>\n",
       "      <td>25.0</td>\n",
       "      <td>26.0</td>\n",
       "      <td>27.0</td>\n",
       "      <td>28</td>\n",
       "      <td>29.0</td>\n",
       "      <td>28</td>\n",
       "    </tr>\n",
       "    <tr>\n",
       "      <th>16</th>\n",
       "      <td>17-10-2020</td>\n",
       "      <td>ketamine hydrochloride</td>\n",
       "      <td>Temperature</td>\n",
       "      <td>13.0</td>\n",
       "      <td>14.0</td>\n",
       "      <td>15.0</td>\n",
       "      <td>16.0</td>\n",
       "      <td>17.0</td>\n",
       "      <td>18</td>\n",
       "      <td>19.0</td>\n",
       "      <td>20.0</td>\n",
       "      <td>21.0</td>\n",
       "      <td>22</td>\n",
       "      <td>23.0</td>\n",
       "      <td>24</td>\n",
       "    </tr>\n",
       "    <tr>\n",
       "      <th>17</th>\n",
       "      <td>17-10-2020</td>\n",
       "      <td>ketamine hydrochloride</td>\n",
       "      <td>Pressure</td>\n",
       "      <td>8.0</td>\n",
       "      <td>9.0</td>\n",
       "      <td>10.0</td>\n",
       "      <td>11.0</td>\n",
       "      <td>11.0</td>\n",
       "      <td>12</td>\n",
       "      <td>12.0</td>\n",
       "      <td>11.0</td>\n",
       "      <td>12.0</td>\n",
       "      <td>13</td>\n",
       "      <td>14.0</td>\n",
       "      <td>15</td>\n",
       "    </tr>\n",
       "  </tbody>\n",
       "</table>\n",
       "</div>"
      ],
      "text/plain": [
       "          Date                Drug_Name    Parameter  1:30:00  2:30:00  \\\n",
       "0   15-10-2020  diltiazem hydrochloride  Temperature     23.0     22.0   \n",
       "1   15-10-2020  diltiazem hydrochloride     Pressure     12.0     13.0   \n",
       "2   15-10-2020      docetaxel injection  Temperature      NaN     17.0   \n",
       "3   15-10-2020      docetaxel injection     Pressure      NaN     22.0   \n",
       "4   15-10-2020   ketamine hydrochloride  Temperature     24.0      NaN   \n",
       "5   15-10-2020   ketamine hydrochloride     Pressure      8.0      NaN   \n",
       "6   16-10-2020  diltiazem hydrochloride  Temperature     34.0     35.0   \n",
       "7   16-10-2020  diltiazem hydrochloride     Pressure     18.0     19.0   \n",
       "8   16-10-2020      docetaxel injection  Temperature     46.0     47.0   \n",
       "9   16-10-2020      docetaxel injection     Pressure     23.0     24.0   \n",
       "10  16-10-2020   ketamine hydrochloride  Temperature      8.0      9.0   \n",
       "11  16-10-2020   ketamine hydrochloride     Pressure     12.0     12.0   \n",
       "12  17-10-2020  diltiazem hydrochloride  Temperature     20.0     19.0   \n",
       "13  17-10-2020  diltiazem hydrochloride     Pressure      3.0      4.0   \n",
       "14  17-10-2020      docetaxel injection  Temperature     12.0     13.0   \n",
       "15  17-10-2020      docetaxel injection     Pressure     20.0     22.0   \n",
       "16  17-10-2020   ketamine hydrochloride  Temperature     13.0     14.0   \n",
       "17  17-10-2020   ketamine hydrochloride     Pressure      8.0      9.0   \n",
       "\n",
       "    3:30:00  4:30:00  5:30:00  6:30:00  7:30:00  8:30:00  9:30:00  10:30:00  \\\n",
       "0       NaN     21.0     21.0       22     23.0     21.0     22.0        20   \n",
       "1       NaN     11.0     13.0       14     16.0     16.0     24.0        18   \n",
       "2      18.0      NaN     17.0       18      NaN      NaN     23.0        23   \n",
       "3      22.0      NaN     22.0       23      NaN      NaN     27.0        26   \n",
       "4       NaN     27.0      NaN       26     25.0     24.0     23.0        22   \n",
       "5       NaN      7.0      NaN        9     10.0     11.0     10.0         9   \n",
       "6      36.0     36.0     37.0       38     37.0     38.0     39.0        40   \n",
       "7      20.0     21.0     22.0       23     24.0     25.0     25.0        24   \n",
       "8       NaN     48.0     48.0       49     50.0     52.0     55.0        56   \n",
       "9       NaN     25.0     26.0       27     28.0     29.0     28.0        28   \n",
       "10     10.0      NaN     11.0       12     12.0     11.0      NaN        13   \n",
       "11     13.0      NaN     15.0       15     15.0     15.0      NaN        16   \n",
       "12     19.0     18.0     17.0       16     15.0      NaN     13.0        14   \n",
       "13      4.0      4.0      6.0        8      9.0      NaN      9.0        11   \n",
       "14     14.0     15.0     16.0       17     18.0     19.0     20.0        21   \n",
       "15     22.0     22.0     22.0       23     25.0     26.0     27.0        28   \n",
       "16     15.0     16.0     17.0       18     19.0     20.0     21.0        22   \n",
       "17     10.0     11.0     11.0       12     12.0     11.0     12.0        13   \n",
       "\n",
       "    11:30:00  12:30:00  \n",
       "0       20.0        21  \n",
       "1       19.0        20  \n",
       "2       25.0        25  \n",
       "3       29.0        28  \n",
       "4       21.0        20  \n",
       "5        9.0        11  \n",
       "6        NaN        42  \n",
       "7        NaN        27  \n",
       "8       57.0        58  \n",
       "9       29.0        30  \n",
       "10      14.0        15  \n",
       "11      17.0        18  \n",
       "12      11.0        10  \n",
       "13      13.0        14  \n",
       "14      22.0        23  \n",
       "15      29.0        28  \n",
       "16      23.0        24  \n",
       "17      14.0        15  "
      ]
     },
     "execution_count": 78,
     "metadata": {},
     "output_type": "execute_result"
    }
   ],
   "source": [
    "df"
   ]
  },
  {
   "cell_type": "code",
   "execution_count": 45,
   "id": "3f74eaad",
   "metadata": {},
   "outputs": [
    {
     "name": "stdout",
     "output_type": "stream",
     "text": [
      "<class 'pandas.core.frame.DataFrame'>\n",
      "RangeIndex: 18 entries, 0 to 17\n",
      "Data columns (total 15 columns):\n",
      " #   Column     Non-Null Count  Dtype  \n",
      "---  ------     --------------  -----  \n",
      " 0   Date       18 non-null     object \n",
      " 1   Drug_Name  18 non-null     object \n",
      " 2   Parameter  18 non-null     object \n",
      " 3   1:30:00    16 non-null     float64\n",
      " 4   2:30:00    16 non-null     float64\n",
      " 5   3:30:00    12 non-null     float64\n",
      " 6   4:30:00    14 non-null     float64\n",
      " 7   5:30:00    16 non-null     float64\n",
      " 8   6:30:00    18 non-null     int64  \n",
      " 9   7:30:00    16 non-null     float64\n",
      " 10  8:30:00    14 non-null     float64\n",
      " 11  9:30:00    16 non-null     float64\n",
      " 12  10:30:00   18 non-null     int64  \n",
      " 13  11:30:00   16 non-null     float64\n",
      " 14  12:30:00   18 non-null     int64  \n",
      "dtypes: float64(9), int64(3), object(3)\n",
      "memory usage: 2.2+ KB\n"
     ]
    }
   ],
   "source": [
    "df.info()"
   ]
  },
  {
   "cell_type": "code",
   "execution_count": 47,
   "id": "10e5ef21",
   "metadata": {},
   "outputs": [
    {
     "data": {
      "text/plain": [
       "0     1\n",
       "1     1\n",
       "2     4\n",
       "3     4\n",
       "4     3\n",
       "5     3\n",
       "6     1\n",
       "7     1\n",
       "8     1\n",
       "9     1\n",
       "10    2\n",
       "11    2\n",
       "12    1\n",
       "13    1\n",
       "14    0\n",
       "15    0\n",
       "16    0\n",
       "17    0\n",
       "dtype: int64"
      ]
     },
     "execution_count": 47,
     "metadata": {},
     "output_type": "execute_result"
    }
   ],
   "source": [
    "df.isna().sum(axis=1)"
   ]
  },
  {
   "cell_type": "code",
   "execution_count": 48,
   "id": "3e0dc67c",
   "metadata": {},
   "outputs": [
    {
     "data": {
      "text/plain": [
       "Date         0\n",
       "Drug_Name    0\n",
       "Parameter    0\n",
       "1:30:00      2\n",
       "2:30:00      2\n",
       "3:30:00      6\n",
       "4:30:00      4\n",
       "5:30:00      2\n",
       "6:30:00      0\n",
       "7:30:00      2\n",
       "8:30:00      4\n",
       "9:30:00      2\n",
       "10:30:00     0\n",
       "11:30:00     2\n",
       "12:30:00     0\n",
       "dtype: int64"
      ]
     },
     "execution_count": 48,
     "metadata": {},
     "output_type": "execute_result"
    }
   ],
   "source": [
    "df.isna().sum()"
   ]
  },
  {
   "cell_type": "code",
   "execution_count": 49,
   "id": "f6c194f6",
   "metadata": {},
   "outputs": [],
   "source": [
    "# we have a function pd.dropna() it drops all the rows where we have nan values"
   ]
  },
  {
   "cell_type": "code",
   "execution_count": 53,
   "id": "fb257000",
   "metadata": {},
   "outputs": [
    {
     "data": {
      "text/html": [
       "<div>\n",
       "<style scoped>\n",
       "    .dataframe tbody tr th:only-of-type {\n",
       "        vertical-align: middle;\n",
       "    }\n",
       "\n",
       "    .dataframe tbody tr th {\n",
       "        vertical-align: top;\n",
       "    }\n",
       "\n",
       "    .dataframe thead th {\n",
       "        text-align: right;\n",
       "    }\n",
       "</style>\n",
       "<table border=\"1\" class=\"dataframe\">\n",
       "  <thead>\n",
       "    <tr style=\"text-align: right;\">\n",
       "      <th></th>\n",
       "      <th>Date</th>\n",
       "      <th>Drug_Name</th>\n",
       "      <th>Parameter</th>\n",
       "      <th>6:30:00</th>\n",
       "      <th>10:30:00</th>\n",
       "      <th>12:30:00</th>\n",
       "    </tr>\n",
       "  </thead>\n",
       "  <tbody>\n",
       "    <tr>\n",
       "      <th>0</th>\n",
       "      <td>15-10-2020</td>\n",
       "      <td>diltiazem hydrochloride</td>\n",
       "      <td>Temperature</td>\n",
       "      <td>22</td>\n",
       "      <td>20</td>\n",
       "      <td>21</td>\n",
       "    </tr>\n",
       "    <tr>\n",
       "      <th>1</th>\n",
       "      <td>15-10-2020</td>\n",
       "      <td>diltiazem hydrochloride</td>\n",
       "      <td>Pressure</td>\n",
       "      <td>14</td>\n",
       "      <td>18</td>\n",
       "      <td>20</td>\n",
       "    </tr>\n",
       "    <tr>\n",
       "      <th>2</th>\n",
       "      <td>15-10-2020</td>\n",
       "      <td>docetaxel injection</td>\n",
       "      <td>Temperature</td>\n",
       "      <td>18</td>\n",
       "      <td>23</td>\n",
       "      <td>25</td>\n",
       "    </tr>\n",
       "    <tr>\n",
       "      <th>3</th>\n",
       "      <td>15-10-2020</td>\n",
       "      <td>docetaxel injection</td>\n",
       "      <td>Pressure</td>\n",
       "      <td>23</td>\n",
       "      <td>26</td>\n",
       "      <td>28</td>\n",
       "    </tr>\n",
       "    <tr>\n",
       "      <th>4</th>\n",
       "      <td>15-10-2020</td>\n",
       "      <td>ketamine hydrochloride</td>\n",
       "      <td>Temperature</td>\n",
       "      <td>26</td>\n",
       "      <td>22</td>\n",
       "      <td>20</td>\n",
       "    </tr>\n",
       "    <tr>\n",
       "      <th>5</th>\n",
       "      <td>15-10-2020</td>\n",
       "      <td>ketamine hydrochloride</td>\n",
       "      <td>Pressure</td>\n",
       "      <td>9</td>\n",
       "      <td>9</td>\n",
       "      <td>11</td>\n",
       "    </tr>\n",
       "    <tr>\n",
       "      <th>6</th>\n",
       "      <td>16-10-2020</td>\n",
       "      <td>diltiazem hydrochloride</td>\n",
       "      <td>Temperature</td>\n",
       "      <td>38</td>\n",
       "      <td>40</td>\n",
       "      <td>42</td>\n",
       "    </tr>\n",
       "    <tr>\n",
       "      <th>7</th>\n",
       "      <td>16-10-2020</td>\n",
       "      <td>diltiazem hydrochloride</td>\n",
       "      <td>Pressure</td>\n",
       "      <td>23</td>\n",
       "      <td>24</td>\n",
       "      <td>27</td>\n",
       "    </tr>\n",
       "    <tr>\n",
       "      <th>8</th>\n",
       "      <td>16-10-2020</td>\n",
       "      <td>docetaxel injection</td>\n",
       "      <td>Temperature</td>\n",
       "      <td>49</td>\n",
       "      <td>56</td>\n",
       "      <td>58</td>\n",
       "    </tr>\n",
       "    <tr>\n",
       "      <th>9</th>\n",
       "      <td>16-10-2020</td>\n",
       "      <td>docetaxel injection</td>\n",
       "      <td>Pressure</td>\n",
       "      <td>27</td>\n",
       "      <td>28</td>\n",
       "      <td>30</td>\n",
       "    </tr>\n",
       "    <tr>\n",
       "      <th>10</th>\n",
       "      <td>16-10-2020</td>\n",
       "      <td>ketamine hydrochloride</td>\n",
       "      <td>Temperature</td>\n",
       "      <td>12</td>\n",
       "      <td>13</td>\n",
       "      <td>15</td>\n",
       "    </tr>\n",
       "    <tr>\n",
       "      <th>11</th>\n",
       "      <td>16-10-2020</td>\n",
       "      <td>ketamine hydrochloride</td>\n",
       "      <td>Pressure</td>\n",
       "      <td>15</td>\n",
       "      <td>16</td>\n",
       "      <td>18</td>\n",
       "    </tr>\n",
       "    <tr>\n",
       "      <th>12</th>\n",
       "      <td>17-10-2020</td>\n",
       "      <td>diltiazem hydrochloride</td>\n",
       "      <td>Temperature</td>\n",
       "      <td>16</td>\n",
       "      <td>14</td>\n",
       "      <td>10</td>\n",
       "    </tr>\n",
       "    <tr>\n",
       "      <th>13</th>\n",
       "      <td>17-10-2020</td>\n",
       "      <td>diltiazem hydrochloride</td>\n",
       "      <td>Pressure</td>\n",
       "      <td>8</td>\n",
       "      <td>11</td>\n",
       "      <td>14</td>\n",
       "    </tr>\n",
       "    <tr>\n",
       "      <th>14</th>\n",
       "      <td>17-10-2020</td>\n",
       "      <td>docetaxel injection</td>\n",
       "      <td>Temperature</td>\n",
       "      <td>17</td>\n",
       "      <td>21</td>\n",
       "      <td>23</td>\n",
       "    </tr>\n",
       "    <tr>\n",
       "      <th>15</th>\n",
       "      <td>17-10-2020</td>\n",
       "      <td>docetaxel injection</td>\n",
       "      <td>Pressure</td>\n",
       "      <td>23</td>\n",
       "      <td>28</td>\n",
       "      <td>28</td>\n",
       "    </tr>\n",
       "    <tr>\n",
       "      <th>16</th>\n",
       "      <td>17-10-2020</td>\n",
       "      <td>ketamine hydrochloride</td>\n",
       "      <td>Temperature</td>\n",
       "      <td>18</td>\n",
       "      <td>22</td>\n",
       "      <td>24</td>\n",
       "    </tr>\n",
       "    <tr>\n",
       "      <th>17</th>\n",
       "      <td>17-10-2020</td>\n",
       "      <td>ketamine hydrochloride</td>\n",
       "      <td>Pressure</td>\n",
       "      <td>12</td>\n",
       "      <td>13</td>\n",
       "      <td>15</td>\n",
       "    </tr>\n",
       "  </tbody>\n",
       "</table>\n",
       "</div>"
      ],
      "text/plain": [
       "          Date                Drug_Name    Parameter  6:30:00  10:30:00  \\\n",
       "0   15-10-2020  diltiazem hydrochloride  Temperature       22        20   \n",
       "1   15-10-2020  diltiazem hydrochloride     Pressure       14        18   \n",
       "2   15-10-2020      docetaxel injection  Temperature       18        23   \n",
       "3   15-10-2020      docetaxel injection     Pressure       23        26   \n",
       "4   15-10-2020   ketamine hydrochloride  Temperature       26        22   \n",
       "5   15-10-2020   ketamine hydrochloride     Pressure        9         9   \n",
       "6   16-10-2020  diltiazem hydrochloride  Temperature       38        40   \n",
       "7   16-10-2020  diltiazem hydrochloride     Pressure       23        24   \n",
       "8   16-10-2020      docetaxel injection  Temperature       49        56   \n",
       "9   16-10-2020      docetaxel injection     Pressure       27        28   \n",
       "10  16-10-2020   ketamine hydrochloride  Temperature       12        13   \n",
       "11  16-10-2020   ketamine hydrochloride     Pressure       15        16   \n",
       "12  17-10-2020  diltiazem hydrochloride  Temperature       16        14   \n",
       "13  17-10-2020  diltiazem hydrochloride     Pressure        8        11   \n",
       "14  17-10-2020      docetaxel injection  Temperature       17        21   \n",
       "15  17-10-2020      docetaxel injection     Pressure       23        28   \n",
       "16  17-10-2020   ketamine hydrochloride  Temperature       18        22   \n",
       "17  17-10-2020   ketamine hydrochloride     Pressure       12        13   \n",
       "\n",
       "    12:30:00  \n",
       "0         21  \n",
       "1         20  \n",
       "2         25  \n",
       "3         28  \n",
       "4         20  \n",
       "5         11  \n",
       "6         42  \n",
       "7         27  \n",
       "8         58  \n",
       "9         30  \n",
       "10        15  \n",
       "11        18  \n",
       "12        10  \n",
       "13        14  \n",
       "14        23  \n",
       "15        28  \n",
       "16        24  \n",
       "17        15  "
      ]
     },
     "execution_count": 53,
     "metadata": {},
     "output_type": "execute_result"
    }
   ],
   "source": [
    "df.dropna(axis=1)\n",
    "\n",
    "# by default axis = 0\n",
    "# LOL we are just left with 4 rows.\n",
    "# not ideal to use dropna \n",
    "# we will fill the missing values "
   ]
  },
  {
   "cell_type": "code",
   "execution_count": 54,
   "id": "8ff7e3e0",
   "metadata": {},
   "outputs": [
    {
     "data": {
      "text/html": [
       "<div>\n",
       "<style scoped>\n",
       "    .dataframe tbody tr th:only-of-type {\n",
       "        vertical-align: middle;\n",
       "    }\n",
       "\n",
       "    .dataframe tbody tr th {\n",
       "        vertical-align: top;\n",
       "    }\n",
       "\n",
       "    .dataframe thead th {\n",
       "        text-align: right;\n",
       "    }\n",
       "</style>\n",
       "<table border=\"1\" class=\"dataframe\">\n",
       "  <thead>\n",
       "    <tr style=\"text-align: right;\">\n",
       "      <th></th>\n",
       "      <th>Date</th>\n",
       "      <th>Drug_Name</th>\n",
       "      <th>Parameter</th>\n",
       "      <th>1:30:00</th>\n",
       "      <th>2:30:00</th>\n",
       "      <th>3:30:00</th>\n",
       "      <th>4:30:00</th>\n",
       "      <th>5:30:00</th>\n",
       "      <th>6:30:00</th>\n",
       "      <th>7:30:00</th>\n",
       "      <th>8:30:00</th>\n",
       "      <th>9:30:00</th>\n",
       "      <th>10:30:00</th>\n",
       "      <th>11:30:00</th>\n",
       "      <th>12:30:00</th>\n",
       "    </tr>\n",
       "  </thead>\n",
       "  <tbody>\n",
       "    <tr>\n",
       "      <th>14</th>\n",
       "      <td>17-10-2020</td>\n",
       "      <td>docetaxel injection</td>\n",
       "      <td>Temperature</td>\n",
       "      <td>12.0</td>\n",
       "      <td>13.0</td>\n",
       "      <td>14.0</td>\n",
       "      <td>15.0</td>\n",
       "      <td>16.0</td>\n",
       "      <td>17</td>\n",
       "      <td>18.0</td>\n",
       "      <td>19.0</td>\n",
       "      <td>20.0</td>\n",
       "      <td>21</td>\n",
       "      <td>22.0</td>\n",
       "      <td>23</td>\n",
       "    </tr>\n",
       "    <tr>\n",
       "      <th>15</th>\n",
       "      <td>17-10-2020</td>\n",
       "      <td>docetaxel injection</td>\n",
       "      <td>Pressure</td>\n",
       "      <td>20.0</td>\n",
       "      <td>22.0</td>\n",
       "      <td>22.0</td>\n",
       "      <td>22.0</td>\n",
       "      <td>22.0</td>\n",
       "      <td>23</td>\n",
       "      <td>25.0</td>\n",
       "      <td>26.0</td>\n",
       "      <td>27.0</td>\n",
       "      <td>28</td>\n",
       "      <td>29.0</td>\n",
       "      <td>28</td>\n",
       "    </tr>\n",
       "    <tr>\n",
       "      <th>16</th>\n",
       "      <td>17-10-2020</td>\n",
       "      <td>ketamine hydrochloride</td>\n",
       "      <td>Temperature</td>\n",
       "      <td>13.0</td>\n",
       "      <td>14.0</td>\n",
       "      <td>15.0</td>\n",
       "      <td>16.0</td>\n",
       "      <td>17.0</td>\n",
       "      <td>18</td>\n",
       "      <td>19.0</td>\n",
       "      <td>20.0</td>\n",
       "      <td>21.0</td>\n",
       "      <td>22</td>\n",
       "      <td>23.0</td>\n",
       "      <td>24</td>\n",
       "    </tr>\n",
       "    <tr>\n",
       "      <th>17</th>\n",
       "      <td>17-10-2020</td>\n",
       "      <td>ketamine hydrochloride</td>\n",
       "      <td>Pressure</td>\n",
       "      <td>8.0</td>\n",
       "      <td>9.0</td>\n",
       "      <td>10.0</td>\n",
       "      <td>11.0</td>\n",
       "      <td>11.0</td>\n",
       "      <td>12</td>\n",
       "      <td>12.0</td>\n",
       "      <td>11.0</td>\n",
       "      <td>12.0</td>\n",
       "      <td>13</td>\n",
       "      <td>14.0</td>\n",
       "      <td>15</td>\n",
       "    </tr>\n",
       "  </tbody>\n",
       "</table>\n",
       "</div>"
      ],
      "text/plain": [
       "          Date               Drug_Name    Parameter  1:30:00  2:30:00  \\\n",
       "14  17-10-2020     docetaxel injection  Temperature     12.0     13.0   \n",
       "15  17-10-2020     docetaxel injection     Pressure     20.0     22.0   \n",
       "16  17-10-2020  ketamine hydrochloride  Temperature     13.0     14.0   \n",
       "17  17-10-2020  ketamine hydrochloride     Pressure      8.0      9.0   \n",
       "\n",
       "    3:30:00  4:30:00  5:30:00  6:30:00  7:30:00  8:30:00  9:30:00  10:30:00  \\\n",
       "14     14.0     15.0     16.0       17     18.0     19.0     20.0        21   \n",
       "15     22.0     22.0     22.0       23     25.0     26.0     27.0        28   \n",
       "16     15.0     16.0     17.0       18     19.0     20.0     21.0        22   \n",
       "17     10.0     11.0     11.0       12     12.0     11.0     12.0        13   \n",
       "\n",
       "    11:30:00  12:30:00  \n",
       "14      22.0        23  \n",
       "15      29.0        28  \n",
       "16      23.0        24  \n",
       "17      14.0        15  "
      ]
     },
     "execution_count": 54,
     "metadata": {},
     "output_type": "execute_result"
    }
   ],
   "source": [
    "df.dropna(axis=0)"
   ]
  },
  {
   "cell_type": "code",
   "execution_count": 56,
   "id": "723906e6",
   "metadata": {},
   "outputs": [
    {
     "data": {
      "text/html": [
       "<div>\n",
       "<style scoped>\n",
       "    .dataframe tbody tr th:only-of-type {\n",
       "        vertical-align: middle;\n",
       "    }\n",
       "\n",
       "    .dataframe tbody tr th {\n",
       "        vertical-align: top;\n",
       "    }\n",
       "\n",
       "    .dataframe thead th {\n",
       "        text-align: right;\n",
       "    }\n",
       "</style>\n",
       "<table border=\"1\" class=\"dataframe\">\n",
       "  <thead>\n",
       "    <tr style=\"text-align: right;\">\n",
       "      <th></th>\n",
       "      <th>Date</th>\n",
       "      <th>Drug_Name</th>\n",
       "      <th>Parameter</th>\n",
       "      <th>6:30:00</th>\n",
       "      <th>10:30:00</th>\n",
       "      <th>12:30:00</th>\n",
       "    </tr>\n",
       "  </thead>\n",
       "  <tbody>\n",
       "    <tr>\n",
       "      <th>0</th>\n",
       "      <td>15-10-2020</td>\n",
       "      <td>diltiazem hydrochloride</td>\n",
       "      <td>Temperature</td>\n",
       "      <td>22</td>\n",
       "      <td>20</td>\n",
       "      <td>21</td>\n",
       "    </tr>\n",
       "    <tr>\n",
       "      <th>1</th>\n",
       "      <td>15-10-2020</td>\n",
       "      <td>diltiazem hydrochloride</td>\n",
       "      <td>Pressure</td>\n",
       "      <td>14</td>\n",
       "      <td>18</td>\n",
       "      <td>20</td>\n",
       "    </tr>\n",
       "    <tr>\n",
       "      <th>2</th>\n",
       "      <td>15-10-2020</td>\n",
       "      <td>docetaxel injection</td>\n",
       "      <td>Temperature</td>\n",
       "      <td>18</td>\n",
       "      <td>23</td>\n",
       "      <td>25</td>\n",
       "    </tr>\n",
       "    <tr>\n",
       "      <th>3</th>\n",
       "      <td>15-10-2020</td>\n",
       "      <td>docetaxel injection</td>\n",
       "      <td>Pressure</td>\n",
       "      <td>23</td>\n",
       "      <td>26</td>\n",
       "      <td>28</td>\n",
       "    </tr>\n",
       "    <tr>\n",
       "      <th>4</th>\n",
       "      <td>15-10-2020</td>\n",
       "      <td>ketamine hydrochloride</td>\n",
       "      <td>Temperature</td>\n",
       "      <td>26</td>\n",
       "      <td>22</td>\n",
       "      <td>20</td>\n",
       "    </tr>\n",
       "    <tr>\n",
       "      <th>5</th>\n",
       "      <td>15-10-2020</td>\n",
       "      <td>ketamine hydrochloride</td>\n",
       "      <td>Pressure</td>\n",
       "      <td>9</td>\n",
       "      <td>9</td>\n",
       "      <td>11</td>\n",
       "    </tr>\n",
       "    <tr>\n",
       "      <th>6</th>\n",
       "      <td>16-10-2020</td>\n",
       "      <td>diltiazem hydrochloride</td>\n",
       "      <td>Temperature</td>\n",
       "      <td>38</td>\n",
       "      <td>40</td>\n",
       "      <td>42</td>\n",
       "    </tr>\n",
       "    <tr>\n",
       "      <th>7</th>\n",
       "      <td>16-10-2020</td>\n",
       "      <td>diltiazem hydrochloride</td>\n",
       "      <td>Pressure</td>\n",
       "      <td>23</td>\n",
       "      <td>24</td>\n",
       "      <td>27</td>\n",
       "    </tr>\n",
       "    <tr>\n",
       "      <th>8</th>\n",
       "      <td>16-10-2020</td>\n",
       "      <td>docetaxel injection</td>\n",
       "      <td>Temperature</td>\n",
       "      <td>49</td>\n",
       "      <td>56</td>\n",
       "      <td>58</td>\n",
       "    </tr>\n",
       "    <tr>\n",
       "      <th>9</th>\n",
       "      <td>16-10-2020</td>\n",
       "      <td>docetaxel injection</td>\n",
       "      <td>Pressure</td>\n",
       "      <td>27</td>\n",
       "      <td>28</td>\n",
       "      <td>30</td>\n",
       "    </tr>\n",
       "    <tr>\n",
       "      <th>10</th>\n",
       "      <td>16-10-2020</td>\n",
       "      <td>ketamine hydrochloride</td>\n",
       "      <td>Temperature</td>\n",
       "      <td>12</td>\n",
       "      <td>13</td>\n",
       "      <td>15</td>\n",
       "    </tr>\n",
       "    <tr>\n",
       "      <th>11</th>\n",
       "      <td>16-10-2020</td>\n",
       "      <td>ketamine hydrochloride</td>\n",
       "      <td>Pressure</td>\n",
       "      <td>15</td>\n",
       "      <td>16</td>\n",
       "      <td>18</td>\n",
       "    </tr>\n",
       "    <tr>\n",
       "      <th>12</th>\n",
       "      <td>17-10-2020</td>\n",
       "      <td>diltiazem hydrochloride</td>\n",
       "      <td>Temperature</td>\n",
       "      <td>16</td>\n",
       "      <td>14</td>\n",
       "      <td>10</td>\n",
       "    </tr>\n",
       "    <tr>\n",
       "      <th>13</th>\n",
       "      <td>17-10-2020</td>\n",
       "      <td>diltiazem hydrochloride</td>\n",
       "      <td>Pressure</td>\n",
       "      <td>8</td>\n",
       "      <td>11</td>\n",
       "      <td>14</td>\n",
       "    </tr>\n",
       "    <tr>\n",
       "      <th>14</th>\n",
       "      <td>17-10-2020</td>\n",
       "      <td>docetaxel injection</td>\n",
       "      <td>Temperature</td>\n",
       "      <td>17</td>\n",
       "      <td>21</td>\n",
       "      <td>23</td>\n",
       "    </tr>\n",
       "    <tr>\n",
       "      <th>15</th>\n",
       "      <td>17-10-2020</td>\n",
       "      <td>docetaxel injection</td>\n",
       "      <td>Pressure</td>\n",
       "      <td>23</td>\n",
       "      <td>28</td>\n",
       "      <td>28</td>\n",
       "    </tr>\n",
       "    <tr>\n",
       "      <th>16</th>\n",
       "      <td>17-10-2020</td>\n",
       "      <td>ketamine hydrochloride</td>\n",
       "      <td>Temperature</td>\n",
       "      <td>18</td>\n",
       "      <td>22</td>\n",
       "      <td>24</td>\n",
       "    </tr>\n",
       "    <tr>\n",
       "      <th>17</th>\n",
       "      <td>17-10-2020</td>\n",
       "      <td>ketamine hydrochloride</td>\n",
       "      <td>Pressure</td>\n",
       "      <td>12</td>\n",
       "      <td>13</td>\n",
       "      <td>15</td>\n",
       "    </tr>\n",
       "  </tbody>\n",
       "</table>\n",
       "</div>"
      ],
      "text/plain": [
       "          Date                Drug_Name    Parameter  6:30:00  10:30:00  \\\n",
       "0   15-10-2020  diltiazem hydrochloride  Temperature       22        20   \n",
       "1   15-10-2020  diltiazem hydrochloride     Pressure       14        18   \n",
       "2   15-10-2020      docetaxel injection  Temperature       18        23   \n",
       "3   15-10-2020      docetaxel injection     Pressure       23        26   \n",
       "4   15-10-2020   ketamine hydrochloride  Temperature       26        22   \n",
       "5   15-10-2020   ketamine hydrochloride     Pressure        9         9   \n",
       "6   16-10-2020  diltiazem hydrochloride  Temperature       38        40   \n",
       "7   16-10-2020  diltiazem hydrochloride     Pressure       23        24   \n",
       "8   16-10-2020      docetaxel injection  Temperature       49        56   \n",
       "9   16-10-2020      docetaxel injection     Pressure       27        28   \n",
       "10  16-10-2020   ketamine hydrochloride  Temperature       12        13   \n",
       "11  16-10-2020   ketamine hydrochloride     Pressure       15        16   \n",
       "12  17-10-2020  diltiazem hydrochloride  Temperature       16        14   \n",
       "13  17-10-2020  diltiazem hydrochloride     Pressure        8        11   \n",
       "14  17-10-2020      docetaxel injection  Temperature       17        21   \n",
       "15  17-10-2020      docetaxel injection     Pressure       23        28   \n",
       "16  17-10-2020   ketamine hydrochloride  Temperature       18        22   \n",
       "17  17-10-2020   ketamine hydrochloride     Pressure       12        13   \n",
       "\n",
       "    12:30:00  \n",
       "0         21  \n",
       "1         20  \n",
       "2         25  \n",
       "3         28  \n",
       "4         20  \n",
       "5         11  \n",
       "6         42  \n",
       "7         27  \n",
       "8         58  \n",
       "9         30  \n",
       "10        15  \n",
       "11        18  \n",
       "12        10  \n",
       "13        14  \n",
       "14        23  \n",
       "15        28  \n",
       "16        24  \n",
       "17        15  "
      ]
     },
     "execution_count": 56,
     "metadata": {},
     "output_type": "execute_result"
    }
   ],
   "source": [
    "df.dropna(axis=1)\n",
    "\n",
    "# LOL half of the important columns are gone"
   ]
  },
  {
   "cell_type": "code",
   "execution_count": 58,
   "id": "89c8221b",
   "metadata": {},
   "outputs": [
    {
     "data": {
      "text/plain": [
       "0     23.00\n",
       "1     12.00\n",
       "2     17.75\n",
       "3     17.75\n",
       "4     24.00\n",
       "5      8.00\n",
       "6     34.00\n",
       "7     18.00\n",
       "8     46.00\n",
       "9     23.00\n",
       "10     8.00\n",
       "11    12.00\n",
       "12    20.00\n",
       "13     3.00\n",
       "14    12.00\n",
       "15    20.00\n",
       "16    13.00\n",
       "17     8.00\n",
       "Name: 1:30:00, dtype: float64"
      ]
     },
     "execution_count": 58,
     "metadata": {},
     "output_type": "execute_result"
    }
   ],
   "source": [
    "df['1:30:00'].fillna(df['1:30:00'].mean())\n",
    "\n",
    "# Is this an ideal way?\n",
    "# No. because in a single column we have data set of different  - different drugs. So this doesn't make much sense"
   ]
  },
  {
   "cell_type": "code",
   "execution_count": 59,
   "id": "4beed1b3",
   "metadata": {},
   "outputs": [],
   "source": [
    "# We will use group by based on drugname and then we will calculate mean values and apply fillna\n",
    "# Before that let's make our data a lil' clean. It is a lil' clumsy rn"
   ]
  },
  {
   "cell_type": "code",
   "execution_count": 79,
   "id": "ee26c4ba",
   "metadata": {},
   "outputs": [],
   "source": [
    "df_melted = pd.melt(df,id_vars = ['Date','Drug_Name','Parameter'],\n",
    "                   var_name = 'Time',\n",
    "                   value_name = 'Result')"
   ]
  },
  {
   "cell_type": "code",
   "execution_count": 80,
   "id": "e7b7b24f",
   "metadata": {},
   "outputs": [],
   "source": [
    "df_tidy = pd.pivot(df_melted,index = ['Date','Drug_Name','Time'],\n",
    "                  columns = 'Parameter',\n",
    "                  values = 'Result').reset_index()"
   ]
  },
  {
   "cell_type": "code",
   "execution_count": 81,
   "id": "3e675681",
   "metadata": {},
   "outputs": [],
   "source": [
    "df_tidy.columns.name = None"
   ]
  },
  {
   "cell_type": "code",
   "execution_count": 82,
   "id": "32f3048b",
   "metadata": {},
   "outputs": [
    {
     "data": {
      "text/html": [
       "<div>\n",
       "<style scoped>\n",
       "    .dataframe tbody tr th:only-of-type {\n",
       "        vertical-align: middle;\n",
       "    }\n",
       "\n",
       "    .dataframe tbody tr th {\n",
       "        vertical-align: top;\n",
       "    }\n",
       "\n",
       "    .dataframe thead th {\n",
       "        text-align: right;\n",
       "    }\n",
       "</style>\n",
       "<table border=\"1\" class=\"dataframe\">\n",
       "  <thead>\n",
       "    <tr style=\"text-align: right;\">\n",
       "      <th></th>\n",
       "      <th>Date</th>\n",
       "      <th>Drug_Name</th>\n",
       "      <th>Time</th>\n",
       "      <th>Pressure</th>\n",
       "      <th>Temperature</th>\n",
       "    </tr>\n",
       "  </thead>\n",
       "  <tbody>\n",
       "    <tr>\n",
       "      <th>0</th>\n",
       "      <td>15-10-2020</td>\n",
       "      <td>diltiazem hydrochloride</td>\n",
       "      <td>10:30:00</td>\n",
       "      <td>18.0</td>\n",
       "      <td>20.0</td>\n",
       "    </tr>\n",
       "    <tr>\n",
       "      <th>1</th>\n",
       "      <td>15-10-2020</td>\n",
       "      <td>diltiazem hydrochloride</td>\n",
       "      <td>11:30:00</td>\n",
       "      <td>19.0</td>\n",
       "      <td>20.0</td>\n",
       "    </tr>\n",
       "    <tr>\n",
       "      <th>2</th>\n",
       "      <td>15-10-2020</td>\n",
       "      <td>diltiazem hydrochloride</td>\n",
       "      <td>12:30:00</td>\n",
       "      <td>20.0</td>\n",
       "      <td>21.0</td>\n",
       "    </tr>\n",
       "    <tr>\n",
       "      <th>3</th>\n",
       "      <td>15-10-2020</td>\n",
       "      <td>diltiazem hydrochloride</td>\n",
       "      <td>1:30:00</td>\n",
       "      <td>12.0</td>\n",
       "      <td>23.0</td>\n",
       "    </tr>\n",
       "    <tr>\n",
       "      <th>4</th>\n",
       "      <td>15-10-2020</td>\n",
       "      <td>diltiazem hydrochloride</td>\n",
       "      <td>2:30:00</td>\n",
       "      <td>13.0</td>\n",
       "      <td>22.0</td>\n",
       "    </tr>\n",
       "    <tr>\n",
       "      <th>...</th>\n",
       "      <td>...</td>\n",
       "      <td>...</td>\n",
       "      <td>...</td>\n",
       "      <td>...</td>\n",
       "      <td>...</td>\n",
       "    </tr>\n",
       "    <tr>\n",
       "      <th>103</th>\n",
       "      <td>17-10-2020</td>\n",
       "      <td>ketamine hydrochloride</td>\n",
       "      <td>5:30:00</td>\n",
       "      <td>11.0</td>\n",
       "      <td>17.0</td>\n",
       "    </tr>\n",
       "    <tr>\n",
       "      <th>104</th>\n",
       "      <td>17-10-2020</td>\n",
       "      <td>ketamine hydrochloride</td>\n",
       "      <td>6:30:00</td>\n",
       "      <td>12.0</td>\n",
       "      <td>18.0</td>\n",
       "    </tr>\n",
       "    <tr>\n",
       "      <th>105</th>\n",
       "      <td>17-10-2020</td>\n",
       "      <td>ketamine hydrochloride</td>\n",
       "      <td>7:30:00</td>\n",
       "      <td>12.0</td>\n",
       "      <td>19.0</td>\n",
       "    </tr>\n",
       "    <tr>\n",
       "      <th>106</th>\n",
       "      <td>17-10-2020</td>\n",
       "      <td>ketamine hydrochloride</td>\n",
       "      <td>8:30:00</td>\n",
       "      <td>11.0</td>\n",
       "      <td>20.0</td>\n",
       "    </tr>\n",
       "    <tr>\n",
       "      <th>107</th>\n",
       "      <td>17-10-2020</td>\n",
       "      <td>ketamine hydrochloride</td>\n",
       "      <td>9:30:00</td>\n",
       "      <td>12.0</td>\n",
       "      <td>21.0</td>\n",
       "    </tr>\n",
       "  </tbody>\n",
       "</table>\n",
       "<p>108 rows × 5 columns</p>\n",
       "</div>"
      ],
      "text/plain": [
       "           Date                Drug_Name      Time  Pressure  Temperature\n",
       "0    15-10-2020  diltiazem hydrochloride  10:30:00      18.0         20.0\n",
       "1    15-10-2020  diltiazem hydrochloride  11:30:00      19.0         20.0\n",
       "2    15-10-2020  diltiazem hydrochloride  12:30:00      20.0         21.0\n",
       "3    15-10-2020  diltiazem hydrochloride   1:30:00      12.0         23.0\n",
       "4    15-10-2020  diltiazem hydrochloride   2:30:00      13.0         22.0\n",
       "..          ...                      ...       ...       ...          ...\n",
       "103  17-10-2020   ketamine hydrochloride   5:30:00      11.0         17.0\n",
       "104  17-10-2020   ketamine hydrochloride   6:30:00      12.0         18.0\n",
       "105  17-10-2020   ketamine hydrochloride   7:30:00      12.0         19.0\n",
       "106  17-10-2020   ketamine hydrochloride   8:30:00      11.0         20.0\n",
       "107  17-10-2020   ketamine hydrochloride   9:30:00      12.0         21.0\n",
       "\n",
       "[108 rows x 5 columns]"
      ]
     },
     "execution_count": 82,
     "metadata": {},
     "output_type": "execute_result"
    }
   ],
   "source": [
    "df_tidy"
   ]
  },
  {
   "cell_type": "code",
   "execution_count": 68,
   "id": "1093c6f5",
   "metadata": {},
   "outputs": [],
   "source": [
    "# Now we will fill mean values in our pressure and temperature table based on different drugs"
   ]
  },
  {
   "cell_type": "code",
   "execution_count": 87,
   "id": "3d249747",
   "metadata": {},
   "outputs": [],
   "source": [
    "def temp_mean(x):\n",
    "    x['temp_avg'] = x['Temperature'].mean().round(2)\n",
    "    return x\n",
    "df_tidy = df_tidy.groupby('Drug_Name').apply(temp_mean)"
   ]
  },
  {
   "cell_type": "code",
   "execution_count": 91,
   "id": "76cff95e",
   "metadata": {},
   "outputs": [],
   "source": [
    "# now let's fill values\n",
    "\n",
    "df_tidy['Temperature'].fillna(df_tidy['temp_avg'],inplace = True)"
   ]
  },
  {
   "cell_type": "code",
   "execution_count": 99,
   "id": "238faffe",
   "metadata": {},
   "outputs": [],
   "source": [
    "df_tidy.drop(columns = 'Drug_Name',inplace=True)"
   ]
  },
  {
   "cell_type": "code",
   "execution_count": 104,
   "id": "2d3b35fd",
   "metadata": {},
   "outputs": [],
   "source": [
    "df_tidy = df_tidy.reset_index()"
   ]
  },
  {
   "cell_type": "code",
   "execution_count": 105,
   "id": "8ddea802",
   "metadata": {},
   "outputs": [
    {
     "data": {
      "text/html": [
       "<div>\n",
       "<style scoped>\n",
       "    .dataframe tbody tr th:only-of-type {\n",
       "        vertical-align: middle;\n",
       "    }\n",
       "\n",
       "    .dataframe tbody tr th {\n",
       "        vertical-align: top;\n",
       "    }\n",
       "\n",
       "    .dataframe thead th {\n",
       "        text-align: right;\n",
       "    }\n",
       "</style>\n",
       "<table border=\"1\" class=\"dataframe\">\n",
       "  <thead>\n",
       "    <tr style=\"text-align: right;\">\n",
       "      <th></th>\n",
       "      <th>Drug_Name</th>\n",
       "      <th>level_1</th>\n",
       "      <th>Date</th>\n",
       "      <th>Time</th>\n",
       "      <th>Pressure</th>\n",
       "      <th>Temperature</th>\n",
       "      <th>temp_avg</th>\n",
       "    </tr>\n",
       "  </thead>\n",
       "  <tbody>\n",
       "    <tr>\n",
       "      <th>0</th>\n",
       "      <td>diltiazem hydrochloride</td>\n",
       "      <td>0</td>\n",
       "      <td>15-10-2020</td>\n",
       "      <td>10:30:00</td>\n",
       "      <td>18.0</td>\n",
       "      <td>20.0</td>\n",
       "      <td>24.85</td>\n",
       "    </tr>\n",
       "    <tr>\n",
       "      <th>1</th>\n",
       "      <td>diltiazem hydrochloride</td>\n",
       "      <td>1</td>\n",
       "      <td>15-10-2020</td>\n",
       "      <td>11:30:00</td>\n",
       "      <td>19.0</td>\n",
       "      <td>20.0</td>\n",
       "      <td>24.85</td>\n",
       "    </tr>\n",
       "    <tr>\n",
       "      <th>2</th>\n",
       "      <td>diltiazem hydrochloride</td>\n",
       "      <td>2</td>\n",
       "      <td>15-10-2020</td>\n",
       "      <td>12:30:00</td>\n",
       "      <td>20.0</td>\n",
       "      <td>21.0</td>\n",
       "      <td>24.85</td>\n",
       "    </tr>\n",
       "    <tr>\n",
       "      <th>3</th>\n",
       "      <td>diltiazem hydrochloride</td>\n",
       "      <td>3</td>\n",
       "      <td>15-10-2020</td>\n",
       "      <td>1:30:00</td>\n",
       "      <td>12.0</td>\n",
       "      <td>23.0</td>\n",
       "      <td>24.85</td>\n",
       "    </tr>\n",
       "    <tr>\n",
       "      <th>4</th>\n",
       "      <td>diltiazem hydrochloride</td>\n",
       "      <td>4</td>\n",
       "      <td>15-10-2020</td>\n",
       "      <td>2:30:00</td>\n",
       "      <td>13.0</td>\n",
       "      <td>22.0</td>\n",
       "      <td>24.85</td>\n",
       "    </tr>\n",
       "    <tr>\n",
       "      <th>...</th>\n",
       "      <td>...</td>\n",
       "      <td>...</td>\n",
       "      <td>...</td>\n",
       "      <td>...</td>\n",
       "      <td>...</td>\n",
       "      <td>...</td>\n",
       "      <td>...</td>\n",
       "    </tr>\n",
       "    <tr>\n",
       "      <th>103</th>\n",
       "      <td>ketamine hydrochloride</td>\n",
       "      <td>103</td>\n",
       "      <td>17-10-2020</td>\n",
       "      <td>5:30:00</td>\n",
       "      <td>11.0</td>\n",
       "      <td>17.0</td>\n",
       "      <td>17.71</td>\n",
       "    </tr>\n",
       "    <tr>\n",
       "      <th>104</th>\n",
       "      <td>ketamine hydrochloride</td>\n",
       "      <td>104</td>\n",
       "      <td>17-10-2020</td>\n",
       "      <td>6:30:00</td>\n",
       "      <td>12.0</td>\n",
       "      <td>18.0</td>\n",
       "      <td>17.71</td>\n",
       "    </tr>\n",
       "    <tr>\n",
       "      <th>105</th>\n",
       "      <td>ketamine hydrochloride</td>\n",
       "      <td>105</td>\n",
       "      <td>17-10-2020</td>\n",
       "      <td>7:30:00</td>\n",
       "      <td>12.0</td>\n",
       "      <td>19.0</td>\n",
       "      <td>17.71</td>\n",
       "    </tr>\n",
       "    <tr>\n",
       "      <th>106</th>\n",
       "      <td>ketamine hydrochloride</td>\n",
       "      <td>106</td>\n",
       "      <td>17-10-2020</td>\n",
       "      <td>8:30:00</td>\n",
       "      <td>11.0</td>\n",
       "      <td>20.0</td>\n",
       "      <td>17.71</td>\n",
       "    </tr>\n",
       "    <tr>\n",
       "      <th>107</th>\n",
       "      <td>ketamine hydrochloride</td>\n",
       "      <td>107</td>\n",
       "      <td>17-10-2020</td>\n",
       "      <td>9:30:00</td>\n",
       "      <td>12.0</td>\n",
       "      <td>21.0</td>\n",
       "      <td>17.71</td>\n",
       "    </tr>\n",
       "  </tbody>\n",
       "</table>\n",
       "<p>108 rows × 7 columns</p>\n",
       "</div>"
      ],
      "text/plain": [
       "                   Drug_Name  level_1        Date      Time  Pressure  \\\n",
       "0    diltiazem hydrochloride        0  15-10-2020  10:30:00      18.0   \n",
       "1    diltiazem hydrochloride        1  15-10-2020  11:30:00      19.0   \n",
       "2    diltiazem hydrochloride        2  15-10-2020  12:30:00      20.0   \n",
       "3    diltiazem hydrochloride        3  15-10-2020   1:30:00      12.0   \n",
       "4    diltiazem hydrochloride        4  15-10-2020   2:30:00      13.0   \n",
       "..                       ...      ...         ...       ...       ...   \n",
       "103   ketamine hydrochloride      103  17-10-2020   5:30:00      11.0   \n",
       "104   ketamine hydrochloride      104  17-10-2020   6:30:00      12.0   \n",
       "105   ketamine hydrochloride      105  17-10-2020   7:30:00      12.0   \n",
       "106   ketamine hydrochloride      106  17-10-2020   8:30:00      11.0   \n",
       "107   ketamine hydrochloride      107  17-10-2020   9:30:00      12.0   \n",
       "\n",
       "     Temperature  temp_avg  \n",
       "0           20.0     24.85  \n",
       "1           20.0     24.85  \n",
       "2           21.0     24.85  \n",
       "3           23.0     24.85  \n",
       "4           22.0     24.85  \n",
       "..           ...       ...  \n",
       "103         17.0     17.71  \n",
       "104         18.0     17.71  \n",
       "105         19.0     17.71  \n",
       "106         20.0     17.71  \n",
       "107         21.0     17.71  \n",
       "\n",
       "[108 rows x 7 columns]"
      ]
     },
     "execution_count": 105,
     "metadata": {},
     "output_type": "execute_result"
    }
   ],
   "source": [
    "df_tidy"
   ]
  },
  {
   "cell_type": "code",
   "execution_count": 93,
   "id": "d51bcf54",
   "metadata": {},
   "outputs": [],
   "source": [
    "# same process with pressure "
   ]
  },
  {
   "cell_type": "code",
   "execution_count": 108,
   "id": "7a12ee4a",
   "metadata": {},
   "outputs": [],
   "source": [
    "def press_avg(x):\n",
    "    x['press_avg'] = x['Pressure'].mean().round(2)\n",
    "    return x\n",
    "\n",
    "df_tidy = df_tidy.groupby('Drug_Name').apply(press_avg)"
   ]
  },
  {
   "cell_type": "code",
   "execution_count": null,
   "id": "410db0e3",
   "metadata": {},
   "outputs": [],
   "source": []
  },
  {
   "cell_type": "code",
   "execution_count": 118,
   "id": "93d5bc83",
   "metadata": {},
   "outputs": [],
   "source": [
    "df_tidy = df_tidy.reset_index()"
   ]
  },
  {
   "cell_type": "code",
   "execution_count": 124,
   "id": "d6854548",
   "metadata": {},
   "outputs": [],
   "source": [
    "df_tidy['Pressure'].fillna(df_tidy['press_avg'],inplace= True)"
   ]
  },
  {
   "cell_type": "code",
   "execution_count": 128,
   "id": "57a43ae7",
   "metadata": {},
   "outputs": [],
   "source": [
    "df_tidy.drop(columns = ['temp_avg','press_avg'],inplace = True)"
   ]
  },
  {
   "cell_type": "code",
   "execution_count": 129,
   "id": "b70c50a5",
   "metadata": {},
   "outputs": [
    {
     "data": {
      "text/html": [
       "<div>\n",
       "<style scoped>\n",
       "    .dataframe tbody tr th:only-of-type {\n",
       "        vertical-align: middle;\n",
       "    }\n",
       "\n",
       "    .dataframe tbody tr th {\n",
       "        vertical-align: top;\n",
       "    }\n",
       "\n",
       "    .dataframe thead th {\n",
       "        text-align: right;\n",
       "    }\n",
       "</style>\n",
       "<table border=\"1\" class=\"dataframe\">\n",
       "  <thead>\n",
       "    <tr style=\"text-align: right;\">\n",
       "      <th></th>\n",
       "      <th>Drug_Name</th>\n",
       "      <th>Date</th>\n",
       "      <th>Time</th>\n",
       "      <th>Pressure</th>\n",
       "      <th>Temperature</th>\n",
       "    </tr>\n",
       "  </thead>\n",
       "  <tbody>\n",
       "    <tr>\n",
       "      <th>0</th>\n",
       "      <td>diltiazem hydrochloride</td>\n",
       "      <td>15-10-2020</td>\n",
       "      <td>10:30:00</td>\n",
       "      <td>18.0</td>\n",
       "      <td>20.0</td>\n",
       "    </tr>\n",
       "    <tr>\n",
       "      <th>1</th>\n",
       "      <td>diltiazem hydrochloride</td>\n",
       "      <td>15-10-2020</td>\n",
       "      <td>11:30:00</td>\n",
       "      <td>19.0</td>\n",
       "      <td>20.0</td>\n",
       "    </tr>\n",
       "    <tr>\n",
       "      <th>2</th>\n",
       "      <td>diltiazem hydrochloride</td>\n",
       "      <td>15-10-2020</td>\n",
       "      <td>12:30:00</td>\n",
       "      <td>20.0</td>\n",
       "      <td>21.0</td>\n",
       "    </tr>\n",
       "    <tr>\n",
       "      <th>3</th>\n",
       "      <td>diltiazem hydrochloride</td>\n",
       "      <td>15-10-2020</td>\n",
       "      <td>1:30:00</td>\n",
       "      <td>12.0</td>\n",
       "      <td>23.0</td>\n",
       "    </tr>\n",
       "    <tr>\n",
       "      <th>4</th>\n",
       "      <td>diltiazem hydrochloride</td>\n",
       "      <td>15-10-2020</td>\n",
       "      <td>2:30:00</td>\n",
       "      <td>13.0</td>\n",
       "      <td>22.0</td>\n",
       "    </tr>\n",
       "    <tr>\n",
       "      <th>...</th>\n",
       "      <td>...</td>\n",
       "      <td>...</td>\n",
       "      <td>...</td>\n",
       "      <td>...</td>\n",
       "      <td>...</td>\n",
       "    </tr>\n",
       "    <tr>\n",
       "      <th>103</th>\n",
       "      <td>ketamine hydrochloride</td>\n",
       "      <td>17-10-2020</td>\n",
       "      <td>5:30:00</td>\n",
       "      <td>11.0</td>\n",
       "      <td>17.0</td>\n",
       "    </tr>\n",
       "    <tr>\n",
       "      <th>104</th>\n",
       "      <td>ketamine hydrochloride</td>\n",
       "      <td>17-10-2020</td>\n",
       "      <td>6:30:00</td>\n",
       "      <td>12.0</td>\n",
       "      <td>18.0</td>\n",
       "    </tr>\n",
       "    <tr>\n",
       "      <th>105</th>\n",
       "      <td>ketamine hydrochloride</td>\n",
       "      <td>17-10-2020</td>\n",
       "      <td>7:30:00</td>\n",
       "      <td>12.0</td>\n",
       "      <td>19.0</td>\n",
       "    </tr>\n",
       "    <tr>\n",
       "      <th>106</th>\n",
       "      <td>ketamine hydrochloride</td>\n",
       "      <td>17-10-2020</td>\n",
       "      <td>8:30:00</td>\n",
       "      <td>11.0</td>\n",
       "      <td>20.0</td>\n",
       "    </tr>\n",
       "    <tr>\n",
       "      <th>107</th>\n",
       "      <td>ketamine hydrochloride</td>\n",
       "      <td>17-10-2020</td>\n",
       "      <td>9:30:00</td>\n",
       "      <td>12.0</td>\n",
       "      <td>21.0</td>\n",
       "    </tr>\n",
       "  </tbody>\n",
       "</table>\n",
       "<p>108 rows × 5 columns</p>\n",
       "</div>"
      ],
      "text/plain": [
       "                   Drug_Name        Date      Time  Pressure  Temperature\n",
       "0    diltiazem hydrochloride  15-10-2020  10:30:00      18.0         20.0\n",
       "1    diltiazem hydrochloride  15-10-2020  11:30:00      19.0         20.0\n",
       "2    diltiazem hydrochloride  15-10-2020  12:30:00      20.0         21.0\n",
       "3    diltiazem hydrochloride  15-10-2020   1:30:00      12.0         23.0\n",
       "4    diltiazem hydrochloride  15-10-2020   2:30:00      13.0         22.0\n",
       "..                       ...         ...       ...       ...          ...\n",
       "103   ketamine hydrochloride  17-10-2020   5:30:00      11.0         17.0\n",
       "104   ketamine hydrochloride  17-10-2020   6:30:00      12.0         18.0\n",
       "105   ketamine hydrochloride  17-10-2020   7:30:00      12.0         19.0\n",
       "106   ketamine hydrochloride  17-10-2020   8:30:00      11.0         20.0\n",
       "107   ketamine hydrochloride  17-10-2020   9:30:00      12.0         21.0\n",
       "\n",
       "[108 rows x 5 columns]"
      ]
     },
     "execution_count": 129,
     "metadata": {},
     "output_type": "execute_result"
    }
   ],
   "source": [
    "df_tidy"
   ]
  },
  {
   "cell_type": "code",
   "execution_count": 130,
   "id": "9952030f",
   "metadata": {},
   "outputs": [],
   "source": [
    "# Now we will learn how to convert continuous data to discrete data"
   ]
  },
  {
   "cell_type": "code",
   "execution_count": 132,
   "id": "8b88e439",
   "metadata": {},
   "outputs": [],
   "source": [
    "# we will create bins for temparature in 4 categories'\n",
    "# low\n",
    "# medium\n",
    "# high\n",
    "# very high"
   ]
  },
  {
   "cell_type": "code",
   "execution_count": 133,
   "id": "5ea586d4",
   "metadata": {},
   "outputs": [
    {
     "data": {
      "text/plain": [
       "58.0"
      ]
     },
     "execution_count": 133,
     "metadata": {},
     "output_type": "execute_result"
    }
   ],
   "source": [
    "df_tidy['Temperature'].max()"
   ]
  },
  {
   "cell_type": "code",
   "execution_count": 134,
   "id": "5891d925",
   "metadata": {},
   "outputs": [
    {
     "data": {
      "text/plain": [
       "8.0"
      ]
     },
     "execution_count": 134,
     "metadata": {},
     "output_type": "execute_result"
    }
   ],
   "source": [
    "df_tidy['Temperature'].min()"
   ]
  },
  {
   "cell_type": "code",
   "execution_count": 137,
   "id": "70b1d8d6",
   "metadata": {},
   "outputs": [],
   "source": [
    "# 8-21 (low)\n",
    "# 21-33 (medium)\n",
    "# 33-45 (high)\n",
    "# 45-59 (very high)"
   ]
  },
  {
   "cell_type": "code",
   "execution_count": 138,
   "id": "ba89a4ef",
   "metadata": {},
   "outputs": [],
   "source": [
    "temp_points = [8,21,33,45,59] # taking 5 points means 4 bins to be created\n",
    "\n",
    "temp_labels = ['low','medium','high','very high']"
   ]
  },
  {
   "cell_type": "code",
   "execution_count": 139,
   "id": "2229f0f7",
   "metadata": {},
   "outputs": [],
   "source": [
    "df_tidy['temp_catg'] = pd.cut(df_tidy['Temperature'],\n",
    "                             bins = temp_points,\n",
    "                             labels = temp_labels)"
   ]
  },
  {
   "cell_type": "code",
   "execution_count": 142,
   "id": "a1f5ec41",
   "metadata": {},
   "outputs": [
    {
     "data": {
      "text/plain": [
       "temp_catg\n",
       "low          56\n",
       "medium       29\n",
       "high         11\n",
       "very high    11\n",
       "Name: count, dtype: int64"
      ]
     },
     "execution_count": 142,
     "metadata": {},
     "output_type": "execute_result"
    }
   ],
   "source": [
    "df_tidy['temp_catg'].value_counts()"
   ]
  },
  {
   "cell_type": "code",
   "execution_count": 143,
   "id": "e32abc97",
   "metadata": {},
   "outputs": [
    {
     "data": {
      "text/html": [
       "<div>\n",
       "<style scoped>\n",
       "    .dataframe tbody tr th:only-of-type {\n",
       "        vertical-align: middle;\n",
       "    }\n",
       "\n",
       "    .dataframe tbody tr th {\n",
       "        vertical-align: top;\n",
       "    }\n",
       "\n",
       "    .dataframe thead th {\n",
       "        text-align: right;\n",
       "    }\n",
       "</style>\n",
       "<table border=\"1\" class=\"dataframe\">\n",
       "  <thead>\n",
       "    <tr style=\"text-align: right;\">\n",
       "      <th></th>\n",
       "      <th>Drug_Name</th>\n",
       "      <th>Date</th>\n",
       "      <th>Time</th>\n",
       "      <th>Pressure</th>\n",
       "      <th>Temperature</th>\n",
       "      <th>temp_catg</th>\n",
       "    </tr>\n",
       "  </thead>\n",
       "  <tbody>\n",
       "    <tr>\n",
       "      <th>0</th>\n",
       "      <td>diltiazem hydrochloride</td>\n",
       "      <td>15-10-2020</td>\n",
       "      <td>10:30:00</td>\n",
       "      <td>18.0</td>\n",
       "      <td>20.0</td>\n",
       "      <td>low</td>\n",
       "    </tr>\n",
       "    <tr>\n",
       "      <th>1</th>\n",
       "      <td>diltiazem hydrochloride</td>\n",
       "      <td>15-10-2020</td>\n",
       "      <td>11:30:00</td>\n",
       "      <td>19.0</td>\n",
       "      <td>20.0</td>\n",
       "      <td>low</td>\n",
       "    </tr>\n",
       "    <tr>\n",
       "      <th>2</th>\n",
       "      <td>diltiazem hydrochloride</td>\n",
       "      <td>15-10-2020</td>\n",
       "      <td>12:30:00</td>\n",
       "      <td>20.0</td>\n",
       "      <td>21.0</td>\n",
       "      <td>low</td>\n",
       "    </tr>\n",
       "    <tr>\n",
       "      <th>3</th>\n",
       "      <td>diltiazem hydrochloride</td>\n",
       "      <td>15-10-2020</td>\n",
       "      <td>1:30:00</td>\n",
       "      <td>12.0</td>\n",
       "      <td>23.0</td>\n",
       "      <td>medium</td>\n",
       "    </tr>\n",
       "    <tr>\n",
       "      <th>4</th>\n",
       "      <td>diltiazem hydrochloride</td>\n",
       "      <td>15-10-2020</td>\n",
       "      <td>2:30:00</td>\n",
       "      <td>13.0</td>\n",
       "      <td>22.0</td>\n",
       "      <td>medium</td>\n",
       "    </tr>\n",
       "    <tr>\n",
       "      <th>...</th>\n",
       "      <td>...</td>\n",
       "      <td>...</td>\n",
       "      <td>...</td>\n",
       "      <td>...</td>\n",
       "      <td>...</td>\n",
       "      <td>...</td>\n",
       "    </tr>\n",
       "    <tr>\n",
       "      <th>103</th>\n",
       "      <td>ketamine hydrochloride</td>\n",
       "      <td>17-10-2020</td>\n",
       "      <td>5:30:00</td>\n",
       "      <td>11.0</td>\n",
       "      <td>17.0</td>\n",
       "      <td>low</td>\n",
       "    </tr>\n",
       "    <tr>\n",
       "      <th>104</th>\n",
       "      <td>ketamine hydrochloride</td>\n",
       "      <td>17-10-2020</td>\n",
       "      <td>6:30:00</td>\n",
       "      <td>12.0</td>\n",
       "      <td>18.0</td>\n",
       "      <td>low</td>\n",
       "    </tr>\n",
       "    <tr>\n",
       "      <th>105</th>\n",
       "      <td>ketamine hydrochloride</td>\n",
       "      <td>17-10-2020</td>\n",
       "      <td>7:30:00</td>\n",
       "      <td>12.0</td>\n",
       "      <td>19.0</td>\n",
       "      <td>low</td>\n",
       "    </tr>\n",
       "    <tr>\n",
       "      <th>106</th>\n",
       "      <td>ketamine hydrochloride</td>\n",
       "      <td>17-10-2020</td>\n",
       "      <td>8:30:00</td>\n",
       "      <td>11.0</td>\n",
       "      <td>20.0</td>\n",
       "      <td>low</td>\n",
       "    </tr>\n",
       "    <tr>\n",
       "      <th>107</th>\n",
       "      <td>ketamine hydrochloride</td>\n",
       "      <td>17-10-2020</td>\n",
       "      <td>9:30:00</td>\n",
       "      <td>12.0</td>\n",
       "      <td>21.0</td>\n",
       "      <td>low</td>\n",
       "    </tr>\n",
       "  </tbody>\n",
       "</table>\n",
       "<p>108 rows × 6 columns</p>\n",
       "</div>"
      ],
      "text/plain": [
       "                   Drug_Name        Date      Time  Pressure  Temperature  \\\n",
       "0    diltiazem hydrochloride  15-10-2020  10:30:00      18.0         20.0   \n",
       "1    diltiazem hydrochloride  15-10-2020  11:30:00      19.0         20.0   \n",
       "2    diltiazem hydrochloride  15-10-2020  12:30:00      20.0         21.0   \n",
       "3    diltiazem hydrochloride  15-10-2020   1:30:00      12.0         23.0   \n",
       "4    diltiazem hydrochloride  15-10-2020   2:30:00      13.0         22.0   \n",
       "..                       ...         ...       ...       ...          ...   \n",
       "103   ketamine hydrochloride  17-10-2020   5:30:00      11.0         17.0   \n",
       "104   ketamine hydrochloride  17-10-2020   6:30:00      12.0         18.0   \n",
       "105   ketamine hydrochloride  17-10-2020   7:30:00      12.0         19.0   \n",
       "106   ketamine hydrochloride  17-10-2020   8:30:00      11.0         20.0   \n",
       "107   ketamine hydrochloride  17-10-2020   9:30:00      12.0         21.0   \n",
       "\n",
       "    temp_catg  \n",
       "0         low  \n",
       "1         low  \n",
       "2         low  \n",
       "3      medium  \n",
       "4      medium  \n",
       "..        ...  \n",
       "103       low  \n",
       "104       low  \n",
       "105       low  \n",
       "106       low  \n",
       "107       low  \n",
       "\n",
       "[108 rows x 6 columns]"
      ]
     },
     "execution_count": 143,
     "metadata": {},
     "output_type": "execute_result"
    }
   ],
   "source": [
    "df_tidy"
   ]
  },
  {
   "cell_type": "markdown",
   "id": "c1aa5a6c",
   "metadata": {},
   "source": [
    "## String method"
   ]
  },
  {
   "cell_type": "code",
   "execution_count": 144,
   "id": "caaab628",
   "metadata": {},
   "outputs": [],
   "source": [
    "# same like SQL like %\n"
   ]
  },
  {
   "cell_type": "code",
   "execution_count": 145,
   "id": "bfbfd372",
   "metadata": {},
   "outputs": [
    {
     "data": {
      "text/html": [
       "<div>\n",
       "<style scoped>\n",
       "    .dataframe tbody tr th:only-of-type {\n",
       "        vertical-align: middle;\n",
       "    }\n",
       "\n",
       "    .dataframe tbody tr th {\n",
       "        vertical-align: top;\n",
       "    }\n",
       "\n",
       "    .dataframe thead th {\n",
       "        text-align: right;\n",
       "    }\n",
       "</style>\n",
       "<table border=\"1\" class=\"dataframe\">\n",
       "  <thead>\n",
       "    <tr style=\"text-align: right;\">\n",
       "      <th></th>\n",
       "      <th>Drug_Name</th>\n",
       "      <th>Date</th>\n",
       "      <th>Time</th>\n",
       "      <th>Pressure</th>\n",
       "      <th>Temperature</th>\n",
       "      <th>temp_catg</th>\n",
       "    </tr>\n",
       "  </thead>\n",
       "  <tbody>\n",
       "    <tr>\n",
       "      <th>0</th>\n",
       "      <td>diltiazem hydrochloride</td>\n",
       "      <td>15-10-2020</td>\n",
       "      <td>10:30:00</td>\n",
       "      <td>18.0</td>\n",
       "      <td>20.0</td>\n",
       "      <td>low</td>\n",
       "    </tr>\n",
       "    <tr>\n",
       "      <th>1</th>\n",
       "      <td>diltiazem hydrochloride</td>\n",
       "      <td>15-10-2020</td>\n",
       "      <td>11:30:00</td>\n",
       "      <td>19.0</td>\n",
       "      <td>20.0</td>\n",
       "      <td>low</td>\n",
       "    </tr>\n",
       "    <tr>\n",
       "      <th>2</th>\n",
       "      <td>diltiazem hydrochloride</td>\n",
       "      <td>15-10-2020</td>\n",
       "      <td>12:30:00</td>\n",
       "      <td>20.0</td>\n",
       "      <td>21.0</td>\n",
       "      <td>low</td>\n",
       "    </tr>\n",
       "    <tr>\n",
       "      <th>3</th>\n",
       "      <td>diltiazem hydrochloride</td>\n",
       "      <td>15-10-2020</td>\n",
       "      <td>1:30:00</td>\n",
       "      <td>12.0</td>\n",
       "      <td>23.0</td>\n",
       "      <td>medium</td>\n",
       "    </tr>\n",
       "    <tr>\n",
       "      <th>4</th>\n",
       "      <td>diltiazem hydrochloride</td>\n",
       "      <td>15-10-2020</td>\n",
       "      <td>2:30:00</td>\n",
       "      <td>13.0</td>\n",
       "      <td>22.0</td>\n",
       "      <td>medium</td>\n",
       "    </tr>\n",
       "    <tr>\n",
       "      <th>...</th>\n",
       "      <td>...</td>\n",
       "      <td>...</td>\n",
       "      <td>...</td>\n",
       "      <td>...</td>\n",
       "      <td>...</td>\n",
       "      <td>...</td>\n",
       "    </tr>\n",
       "    <tr>\n",
       "      <th>103</th>\n",
       "      <td>ketamine hydrochloride</td>\n",
       "      <td>17-10-2020</td>\n",
       "      <td>5:30:00</td>\n",
       "      <td>11.0</td>\n",
       "      <td>17.0</td>\n",
       "      <td>low</td>\n",
       "    </tr>\n",
       "    <tr>\n",
       "      <th>104</th>\n",
       "      <td>ketamine hydrochloride</td>\n",
       "      <td>17-10-2020</td>\n",
       "      <td>6:30:00</td>\n",
       "      <td>12.0</td>\n",
       "      <td>18.0</td>\n",
       "      <td>low</td>\n",
       "    </tr>\n",
       "    <tr>\n",
       "      <th>105</th>\n",
       "      <td>ketamine hydrochloride</td>\n",
       "      <td>17-10-2020</td>\n",
       "      <td>7:30:00</td>\n",
       "      <td>12.0</td>\n",
       "      <td>19.0</td>\n",
       "      <td>low</td>\n",
       "    </tr>\n",
       "    <tr>\n",
       "      <th>106</th>\n",
       "      <td>ketamine hydrochloride</td>\n",
       "      <td>17-10-2020</td>\n",
       "      <td>8:30:00</td>\n",
       "      <td>11.0</td>\n",
       "      <td>20.0</td>\n",
       "      <td>low</td>\n",
       "    </tr>\n",
       "    <tr>\n",
       "      <th>107</th>\n",
       "      <td>ketamine hydrochloride</td>\n",
       "      <td>17-10-2020</td>\n",
       "      <td>9:30:00</td>\n",
       "      <td>12.0</td>\n",
       "      <td>21.0</td>\n",
       "      <td>low</td>\n",
       "    </tr>\n",
       "  </tbody>\n",
       "</table>\n",
       "<p>72 rows × 6 columns</p>\n",
       "</div>"
      ],
      "text/plain": [
       "                   Drug_Name        Date      Time  Pressure  Temperature  \\\n",
       "0    diltiazem hydrochloride  15-10-2020  10:30:00      18.0         20.0   \n",
       "1    diltiazem hydrochloride  15-10-2020  11:30:00      19.0         20.0   \n",
       "2    diltiazem hydrochloride  15-10-2020  12:30:00      20.0         21.0   \n",
       "3    diltiazem hydrochloride  15-10-2020   1:30:00      12.0         23.0   \n",
       "4    diltiazem hydrochloride  15-10-2020   2:30:00      13.0         22.0   \n",
       "..                       ...         ...       ...       ...          ...   \n",
       "103   ketamine hydrochloride  17-10-2020   5:30:00      11.0         17.0   \n",
       "104   ketamine hydrochloride  17-10-2020   6:30:00      12.0         18.0   \n",
       "105   ketamine hydrochloride  17-10-2020   7:30:00      12.0         19.0   \n",
       "106   ketamine hydrochloride  17-10-2020   8:30:00      11.0         20.0   \n",
       "107   ketamine hydrochloride  17-10-2020   9:30:00      12.0         21.0   \n",
       "\n",
       "    temp_catg  \n",
       "0         low  \n",
       "1         low  \n",
       "2         low  \n",
       "3      medium  \n",
       "4      medium  \n",
       "..        ...  \n",
       "103       low  \n",
       "104       low  \n",
       "105       low  \n",
       "106       low  \n",
       "107       low  \n",
       "\n",
       "[72 rows x 6 columns]"
      ]
     },
     "execution_count": 145,
     "metadata": {},
     "output_type": "execute_result"
    }
   ],
   "source": [
    "df_tidy.loc[df_tidy['Drug_Name'].str.contains('hydrochloride')]"
   ]
  },
  {
   "cell_type": "code",
   "execution_count": 146,
   "id": "923fe8a4",
   "metadata": {},
   "outputs": [],
   "source": [
    "# extract only years from date"
   ]
  },
  {
   "cell_type": "code",
   "execution_count": 147,
   "id": "a65c49d7",
   "metadata": {},
   "outputs": [
    {
     "data": {
      "text/plain": [
       "0      2020\n",
       "1      2020\n",
       "2      2020\n",
       "3      2020\n",
       "4      2020\n",
       "       ... \n",
       "103    2020\n",
       "104    2020\n",
       "105    2020\n",
       "106    2020\n",
       "107    2020\n",
       "Name: Date, Length: 108, dtype: object"
      ]
     },
     "execution_count": 147,
     "metadata": {},
     "output_type": "execute_result"
    }
   ],
   "source": [
    "df_tidy['Date'].str.split('-').apply(lambda x : x[2])"
   ]
  },
  {
   "cell_type": "code",
   "execution_count": 148,
   "id": "8613d6de",
   "metadata": {},
   "outputs": [],
   "source": [
    "# let's create a new column timestamp"
   ]
  },
  {
   "cell_type": "code",
   "execution_count": 150,
   "id": "9620686a",
   "metadata": {},
   "outputs": [],
   "source": [
    "df_tidy['timestamp'] = df_tidy['Date']+' '+df_tidy['Time']"
   ]
  },
  {
   "cell_type": "code",
   "execution_count": 152,
   "id": "97f286e2",
   "metadata": {},
   "outputs": [
    {
     "name": "stderr",
     "output_type": "stream",
     "text": [
      "C:\\Users\\htc\\AppData\\Local\\Temp\\ipykernel_6620\\1654591890.py:1: UserWarning: Parsing dates in %d-%m-%Y %H:%M:%S format when dayfirst=False (the default) was specified. Pass `dayfirst=True` or specify a format to silence this warning.\n",
      "  df_tidy['timestamp'] = pd.to_datetime(df_tidy['timestamp'])\n"
     ]
    }
   ],
   "source": [
    "df_tidy['timestamp'] = pd.to_datetime(df_tidy['timestamp'])"
   ]
  },
  {
   "cell_type": "code",
   "execution_count": 153,
   "id": "0673d3c1",
   "metadata": {},
   "outputs": [
    {
     "data": {
      "text/html": [
       "<div>\n",
       "<style scoped>\n",
       "    .dataframe tbody tr th:only-of-type {\n",
       "        vertical-align: middle;\n",
       "    }\n",
       "\n",
       "    .dataframe tbody tr th {\n",
       "        vertical-align: top;\n",
       "    }\n",
       "\n",
       "    .dataframe thead th {\n",
       "        text-align: right;\n",
       "    }\n",
       "</style>\n",
       "<table border=\"1\" class=\"dataframe\">\n",
       "  <thead>\n",
       "    <tr style=\"text-align: right;\">\n",
       "      <th></th>\n",
       "      <th>Drug_Name</th>\n",
       "      <th>Date</th>\n",
       "      <th>Time</th>\n",
       "      <th>Pressure</th>\n",
       "      <th>Temperature</th>\n",
       "      <th>temp_catg</th>\n",
       "      <th>timestamp</th>\n",
       "    </tr>\n",
       "  </thead>\n",
       "  <tbody>\n",
       "    <tr>\n",
       "      <th>0</th>\n",
       "      <td>diltiazem hydrochloride</td>\n",
       "      <td>15-10-2020</td>\n",
       "      <td>10:30:00</td>\n",
       "      <td>18.0</td>\n",
       "      <td>20.0</td>\n",
       "      <td>low</td>\n",
       "      <td>2020-10-15 10:30:00</td>\n",
       "    </tr>\n",
       "    <tr>\n",
       "      <th>1</th>\n",
       "      <td>diltiazem hydrochloride</td>\n",
       "      <td>15-10-2020</td>\n",
       "      <td>11:30:00</td>\n",
       "      <td>19.0</td>\n",
       "      <td>20.0</td>\n",
       "      <td>low</td>\n",
       "      <td>2020-10-15 11:30:00</td>\n",
       "    </tr>\n",
       "    <tr>\n",
       "      <th>2</th>\n",
       "      <td>diltiazem hydrochloride</td>\n",
       "      <td>15-10-2020</td>\n",
       "      <td>12:30:00</td>\n",
       "      <td>20.0</td>\n",
       "      <td>21.0</td>\n",
       "      <td>low</td>\n",
       "      <td>2020-10-15 12:30:00</td>\n",
       "    </tr>\n",
       "    <tr>\n",
       "      <th>3</th>\n",
       "      <td>diltiazem hydrochloride</td>\n",
       "      <td>15-10-2020</td>\n",
       "      <td>1:30:00</td>\n",
       "      <td>12.0</td>\n",
       "      <td>23.0</td>\n",
       "      <td>medium</td>\n",
       "      <td>2020-10-15 01:30:00</td>\n",
       "    </tr>\n",
       "    <tr>\n",
       "      <th>4</th>\n",
       "      <td>diltiazem hydrochloride</td>\n",
       "      <td>15-10-2020</td>\n",
       "      <td>2:30:00</td>\n",
       "      <td>13.0</td>\n",
       "      <td>22.0</td>\n",
       "      <td>medium</td>\n",
       "      <td>2020-10-15 02:30:00</td>\n",
       "    </tr>\n",
       "    <tr>\n",
       "      <th>...</th>\n",
       "      <td>...</td>\n",
       "      <td>...</td>\n",
       "      <td>...</td>\n",
       "      <td>...</td>\n",
       "      <td>...</td>\n",
       "      <td>...</td>\n",
       "      <td>...</td>\n",
       "    </tr>\n",
       "    <tr>\n",
       "      <th>103</th>\n",
       "      <td>ketamine hydrochloride</td>\n",
       "      <td>17-10-2020</td>\n",
       "      <td>5:30:00</td>\n",
       "      <td>11.0</td>\n",
       "      <td>17.0</td>\n",
       "      <td>low</td>\n",
       "      <td>2020-10-17 05:30:00</td>\n",
       "    </tr>\n",
       "    <tr>\n",
       "      <th>104</th>\n",
       "      <td>ketamine hydrochloride</td>\n",
       "      <td>17-10-2020</td>\n",
       "      <td>6:30:00</td>\n",
       "      <td>12.0</td>\n",
       "      <td>18.0</td>\n",
       "      <td>low</td>\n",
       "      <td>2020-10-17 06:30:00</td>\n",
       "    </tr>\n",
       "    <tr>\n",
       "      <th>105</th>\n",
       "      <td>ketamine hydrochloride</td>\n",
       "      <td>17-10-2020</td>\n",
       "      <td>7:30:00</td>\n",
       "      <td>12.0</td>\n",
       "      <td>19.0</td>\n",
       "      <td>low</td>\n",
       "      <td>2020-10-17 07:30:00</td>\n",
       "    </tr>\n",
       "    <tr>\n",
       "      <th>106</th>\n",
       "      <td>ketamine hydrochloride</td>\n",
       "      <td>17-10-2020</td>\n",
       "      <td>8:30:00</td>\n",
       "      <td>11.0</td>\n",
       "      <td>20.0</td>\n",
       "      <td>low</td>\n",
       "      <td>2020-10-17 08:30:00</td>\n",
       "    </tr>\n",
       "    <tr>\n",
       "      <th>107</th>\n",
       "      <td>ketamine hydrochloride</td>\n",
       "      <td>17-10-2020</td>\n",
       "      <td>9:30:00</td>\n",
       "      <td>12.0</td>\n",
       "      <td>21.0</td>\n",
       "      <td>low</td>\n",
       "      <td>2020-10-17 09:30:00</td>\n",
       "    </tr>\n",
       "  </tbody>\n",
       "</table>\n",
       "<p>108 rows × 7 columns</p>\n",
       "</div>"
      ],
      "text/plain": [
       "                   Drug_Name        Date      Time  Pressure  Temperature  \\\n",
       "0    diltiazem hydrochloride  15-10-2020  10:30:00      18.0         20.0   \n",
       "1    diltiazem hydrochloride  15-10-2020  11:30:00      19.0         20.0   \n",
       "2    diltiazem hydrochloride  15-10-2020  12:30:00      20.0         21.0   \n",
       "3    diltiazem hydrochloride  15-10-2020   1:30:00      12.0         23.0   \n",
       "4    diltiazem hydrochloride  15-10-2020   2:30:00      13.0         22.0   \n",
       "..                       ...         ...       ...       ...          ...   \n",
       "103   ketamine hydrochloride  17-10-2020   5:30:00      11.0         17.0   \n",
       "104   ketamine hydrochloride  17-10-2020   6:30:00      12.0         18.0   \n",
       "105   ketamine hydrochloride  17-10-2020   7:30:00      12.0         19.0   \n",
       "106   ketamine hydrochloride  17-10-2020   8:30:00      11.0         20.0   \n",
       "107   ketamine hydrochloride  17-10-2020   9:30:00      12.0         21.0   \n",
       "\n",
       "    temp_catg           timestamp  \n",
       "0         low 2020-10-15 10:30:00  \n",
       "1         low 2020-10-15 11:30:00  \n",
       "2         low 2020-10-15 12:30:00  \n",
       "3      medium 2020-10-15 01:30:00  \n",
       "4      medium 2020-10-15 02:30:00  \n",
       "..        ...                 ...  \n",
       "103       low 2020-10-17 05:30:00  \n",
       "104       low 2020-10-17 06:30:00  \n",
       "105       low 2020-10-17 07:30:00  \n",
       "106       low 2020-10-17 08:30:00  \n",
       "107       low 2020-10-17 09:30:00  \n",
       "\n",
       "[108 rows x 7 columns]"
      ]
     },
     "execution_count": 153,
     "metadata": {},
     "output_type": "execute_result"
    }
   ],
   "source": [
    "df_tidy"
   ]
  },
  {
   "cell_type": "code",
   "execution_count": 154,
   "id": "c6bca3c7",
   "metadata": {},
   "outputs": [],
   "source": [
    "ts= df_tidy['timestamp'][0]"
   ]
  },
  {
   "cell_type": "code",
   "execution_count": 155,
   "id": "ff428500",
   "metadata": {},
   "outputs": [
    {
     "data": {
      "text/plain": [
       "Timestamp('2020-10-15 10:30:00')"
      ]
     },
     "execution_count": 155,
     "metadata": {},
     "output_type": "execute_result"
    }
   ],
   "source": [
    "ts"
   ]
  },
  {
   "cell_type": "code",
   "execution_count": 156,
   "id": "ef4d5f8e",
   "metadata": {},
   "outputs": [],
   "source": [
    "# no longer a string"
   ]
  },
  {
   "cell_type": "code",
   "execution_count": 157,
   "id": "0d7e490d",
   "metadata": {},
   "outputs": [],
   "source": [
    "# now if you want to extract month, year , day, hours etc. you don't have to write long codes.\n",
    "# Pandas gives us some time stamp attributes"
   ]
  },
  {
   "cell_type": "code",
   "execution_count": 158,
   "id": "54b4f44c",
   "metadata": {},
   "outputs": [
    {
     "data": {
      "text/plain": [
       "10"
      ]
     },
     "execution_count": 158,
     "metadata": {},
     "output_type": "execute_result"
    }
   ],
   "source": [
    "ts.month"
   ]
  },
  {
   "cell_type": "code",
   "execution_count": 159,
   "id": "675c4208",
   "metadata": {},
   "outputs": [
    {
     "data": {
      "text/plain": [
       "2020"
      ]
     },
     "execution_count": 159,
     "metadata": {},
     "output_type": "execute_result"
    }
   ],
   "source": [
    "ts.year"
   ]
  },
  {
   "cell_type": "code",
   "execution_count": 160,
   "id": "5549ba3b",
   "metadata": {},
   "outputs": [
    {
     "data": {
      "text/plain": [
       "15"
      ]
     },
     "execution_count": 160,
     "metadata": {},
     "output_type": "execute_result"
    }
   ],
   "source": [
    "ts.day"
   ]
  },
  {
   "cell_type": "code",
   "execution_count": 161,
   "id": "608c7a16",
   "metadata": {},
   "outputs": [
    {
     "data": {
      "text/plain": [
       "10"
      ]
     },
     "execution_count": 161,
     "metadata": {},
     "output_type": "execute_result"
    }
   ],
   "source": [
    "ts.hour"
   ]
  },
  {
   "cell_type": "code",
   "execution_count": 162,
   "id": "e82a074f",
   "metadata": {},
   "outputs": [
    {
     "data": {
      "text/plain": [
       "30"
      ]
     },
     "execution_count": 162,
     "metadata": {},
     "output_type": "execute_result"
    }
   ],
   "source": [
    "ts.minute"
   ]
  },
  {
   "cell_type": "code",
   "execution_count": 163,
   "id": "33bec322",
   "metadata": {},
   "outputs": [
    {
     "data": {
      "text/plain": [
       "0"
      ]
     },
     "execution_count": 163,
     "metadata": {},
     "output_type": "execute_result"
    }
   ],
   "source": [
    "ts.second"
   ]
  },
  {
   "cell_type": "code",
   "execution_count": 166,
   "id": "02b7bce2",
   "metadata": {},
   "outputs": [],
   "source": [
    "# For entire column\n",
    "# we can use dt instead of str in timestamp dtype"
   ]
  },
  {
   "cell_type": "code",
   "execution_count": 168,
   "id": "5e251a60",
   "metadata": {},
   "outputs": [
    {
     "data": {
      "text/plain": [
       "0      2020\n",
       "1      2020\n",
       "2      2020\n",
       "3      2020\n",
       "4      2020\n",
       "       ... \n",
       "103    2020\n",
       "104    2020\n",
       "105    2020\n",
       "106    2020\n",
       "107    2020\n",
       "Name: timestamp, Length: 108, dtype: int32"
      ]
     },
     "execution_count": 168,
     "metadata": {},
     "output_type": "execute_result"
    }
   ],
   "source": [
    "df_tidy['timestamp'].dt.year"
   ]
  },
  {
   "cell_type": "code",
   "execution_count": 169,
   "id": "5ebc52c1",
   "metadata": {},
   "outputs": [],
   "source": [
    "# Reversing time"
   ]
  },
  {
   "cell_type": "code",
   "execution_count": 171,
   "id": "c2712335",
   "metadata": {},
   "outputs": [
    {
     "data": {
      "text/plain": [
       "'20-10-15'"
      ]
     },
     "execution_count": 171,
     "metadata": {},
     "output_type": "execute_result"
    }
   ],
   "source": [
    "df_tidy['timestamp'][0].strftime('%y-%m-%d')"
   ]
  },
  {
   "cell_type": "code",
   "execution_count": 172,
   "id": "c79dc43b",
   "metadata": {},
   "outputs": [],
   "source": [
    "# END OF PANDAS\n",
    "# HOW TO WRITE A FILE FOR OTHER USERS \n",
    "\n",
    "df_tidy.to_csv('drug_clean_data.csv',sep=',')"
   ]
  },
  {
   "cell_type": "markdown",
   "id": "5f187210",
   "metadata": {},
   "source": [
    "# Assignments"
   ]
  },
  {
   "cell_type": "code",
   "execution_count": 1,
   "id": "c213810f",
   "metadata": {},
   "outputs": [],
   "source": [
    "import numpy as np\n",
    "import pandas as pd"
   ]
  },
  {
   "cell_type": "code",
   "execution_count": 2,
   "id": "95be6e44",
   "metadata": {},
   "outputs": [],
   "source": [
    "# Given a function ‘is_null’ with the following implementation.\n",
    "\n",
    "df2 = pd.DataFrame([[np.nan,2,np.nan,0],\n",
    "                   [3,4,np.nan,1],\n",
    "                   [np.nan,3,np.nan,4]],\n",
    "                   columns = ['A','B','C','D'])"
   ]
  },
  {
   "cell_type": "code",
   "execution_count": 4,
   "id": "94059b5d",
   "metadata": {},
   "outputs": [
    {
     "data": {
      "text/html": [
       "<div>\n",
       "<style scoped>\n",
       "    .dataframe tbody tr th:only-of-type {\n",
       "        vertical-align: middle;\n",
       "    }\n",
       "\n",
       "    .dataframe tbody tr th {\n",
       "        vertical-align: top;\n",
       "    }\n",
       "\n",
       "    .dataframe thead th {\n",
       "        text-align: right;\n",
       "    }\n",
       "</style>\n",
       "<table border=\"1\" class=\"dataframe\">\n",
       "  <thead>\n",
       "    <tr style=\"text-align: right;\">\n",
       "      <th></th>\n",
       "      <th>A</th>\n",
       "      <th>B</th>\n",
       "      <th>C</th>\n",
       "      <th>D</th>\n",
       "    </tr>\n",
       "  </thead>\n",
       "  <tbody>\n",
       "    <tr>\n",
       "      <th>0</th>\n",
       "      <td>NaN</td>\n",
       "      <td>2</td>\n",
       "      <td>NaN</td>\n",
       "      <td>0</td>\n",
       "    </tr>\n",
       "    <tr>\n",
       "      <th>1</th>\n",
       "      <td>3.0</td>\n",
       "      <td>4</td>\n",
       "      <td>NaN</td>\n",
       "      <td>1</td>\n",
       "    </tr>\n",
       "    <tr>\n",
       "      <th>2</th>\n",
       "      <td>NaN</td>\n",
       "      <td>3</td>\n",
       "      <td>NaN</td>\n",
       "      <td>4</td>\n",
       "    </tr>\n",
       "  </tbody>\n",
       "</table>\n",
       "</div>"
      ],
      "text/plain": [
       "     A  B   C  D\n",
       "0  NaN  2 NaN  0\n",
       "1  3.0  4 NaN  1\n",
       "2  NaN  3 NaN  4"
      ]
     },
     "execution_count": 4,
     "metadata": {},
     "output_type": "execute_result"
    }
   ],
   "source": [
    "df2"
   ]
  },
  {
   "cell_type": "code",
   "execution_count": 5,
   "id": "fac55beb",
   "metadata": {},
   "outputs": [],
   "source": [
    "def is_null(x):\n",
    "    return sum(x.isnull())"
   ]
  },
  {
   "cell_type": "code",
   "execution_count": 6,
   "id": "52eac10a",
   "metadata": {},
   "outputs": [
    {
     "data": {
      "text/plain": [
       "0    2\n",
       "1    1\n",
       "2    2\n",
       "dtype: int64"
      ]
     },
     "execution_count": 6,
     "metadata": {},
     "output_type": "execute_result"
    }
   ],
   "source": [
    "df2.apply(is_null,axis = 1)"
   ]
  },
  {
   "cell_type": "code",
   "execution_count": 7,
   "id": "83dba444",
   "metadata": {},
   "outputs": [
    {
     "data": {
      "text/plain": [
       "5"
      ]
     },
     "execution_count": 7,
     "metadata": {},
     "output_type": "execute_result"
    }
   ],
   "source": [
    "df2.isna().sum().sum()"
   ]
  },
  {
   "cell_type": "code",
   "execution_count": 8,
   "id": "9f77a6b2",
   "metadata": {},
   "outputs": [
    {
     "data": {
      "text/plain": [
       "2"
      ]
     },
     "execution_count": 8,
     "metadata": {},
     "output_type": "execute_result"
    }
   ],
   "source": [
    "df2.loc[[2]].isna().sum().sum()"
   ]
  },
  {
   "cell_type": "code",
   "execution_count": 9,
   "id": "f1485623",
   "metadata": {},
   "outputs": [],
   "source": [
    "# As an educational institute, you need to keep a track of all the registered students. Here you’re given the registration IDs and the corresponding dates of a batch of students. You need to return a DataFrame containing the columns as follows:"
   ]
  },
  {
   "cell_type": "code",
   "execution_count": 10,
   "id": "d044d336",
   "metadata": {},
   "outputs": [],
   "source": [
    "df = pd.DataFrame({'RID':[156,92,29,93,55,32],\n",
    "                  'RDATE':['2021-01-01','2021-02-12','2021-04-16','2021-01-22','2021-01-15','2021-02-26']})"
   ]
  },
  {
   "cell_type": "code",
   "execution_count": 12,
   "id": "ddd99762",
   "metadata": {},
   "outputs": [],
   "source": [
    "df['RDATE'] = pd.to_datetime(df['RDATE'])"
   ]
  },
  {
   "cell_type": "code",
   "execution_count": 14,
   "id": "2e422416",
   "metadata": {},
   "outputs": [],
   "source": [
    "df['RMONTH']= df['RDATE'].dt.month\n",
    "df['RYEAR']= df['RDATE'].dt.year\n",
    "df['RDAY']= df['RDATE'].dt.day"
   ]
  },
  {
   "cell_type": "code",
   "execution_count": 15,
   "id": "5a34e89f",
   "metadata": {},
   "outputs": [
    {
     "data": {
      "text/html": [
       "<div>\n",
       "<style scoped>\n",
       "    .dataframe tbody tr th:only-of-type {\n",
       "        vertical-align: middle;\n",
       "    }\n",
       "\n",
       "    .dataframe tbody tr th {\n",
       "        vertical-align: top;\n",
       "    }\n",
       "\n",
       "    .dataframe thead th {\n",
       "        text-align: right;\n",
       "    }\n",
       "</style>\n",
       "<table border=\"1\" class=\"dataframe\">\n",
       "  <thead>\n",
       "    <tr style=\"text-align: right;\">\n",
       "      <th></th>\n",
       "      <th>RID</th>\n",
       "      <th>RDATE</th>\n",
       "      <th>RMONTH</th>\n",
       "      <th>RYEAR</th>\n",
       "      <th>RDAY</th>\n",
       "    </tr>\n",
       "  </thead>\n",
       "  <tbody>\n",
       "    <tr>\n",
       "      <th>0</th>\n",
       "      <td>156</td>\n",
       "      <td>2021-01-01</td>\n",
       "      <td>1</td>\n",
       "      <td>2021</td>\n",
       "      <td>1</td>\n",
       "    </tr>\n",
       "    <tr>\n",
       "      <th>1</th>\n",
       "      <td>92</td>\n",
       "      <td>2021-02-12</td>\n",
       "      <td>2</td>\n",
       "      <td>2021</td>\n",
       "      <td>12</td>\n",
       "    </tr>\n",
       "    <tr>\n",
       "      <th>2</th>\n",
       "      <td>29</td>\n",
       "      <td>2021-04-16</td>\n",
       "      <td>4</td>\n",
       "      <td>2021</td>\n",
       "      <td>16</td>\n",
       "    </tr>\n",
       "    <tr>\n",
       "      <th>3</th>\n",
       "      <td>93</td>\n",
       "      <td>2021-01-22</td>\n",
       "      <td>1</td>\n",
       "      <td>2021</td>\n",
       "      <td>22</td>\n",
       "    </tr>\n",
       "    <tr>\n",
       "      <th>4</th>\n",
       "      <td>55</td>\n",
       "      <td>2021-01-15</td>\n",
       "      <td>1</td>\n",
       "      <td>2021</td>\n",
       "      <td>15</td>\n",
       "    </tr>\n",
       "    <tr>\n",
       "      <th>5</th>\n",
       "      <td>32</td>\n",
       "      <td>2021-02-26</td>\n",
       "      <td>2</td>\n",
       "      <td>2021</td>\n",
       "      <td>26</td>\n",
       "    </tr>\n",
       "  </tbody>\n",
       "</table>\n",
       "</div>"
      ],
      "text/plain": [
       "   RID      RDATE  RMONTH  RYEAR  RDAY\n",
       "0  156 2021-01-01       1   2021     1\n",
       "1   92 2021-02-12       2   2021    12\n",
       "2   29 2021-04-16       4   2021    16\n",
       "3   93 2021-01-22       1   2021    22\n",
       "4   55 2021-01-15       1   2021    15\n",
       "5   32 2021-02-26       2   2021    26"
      ]
     },
     "execution_count": 15,
     "metadata": {},
     "output_type": "execute_result"
    }
   ],
   "source": [
    "df"
   ]
  },
  {
   "cell_type": "code",
   "execution_count": null,
   "id": "abed38cc",
   "metadata": {},
   "outputs": [],
   "source": []
  },
  {
   "cell_type": "code",
   "execution_count": 17,
   "id": "47875247",
   "metadata": {},
   "outputs": [],
   "source": [
    "df = pd.DataFrame({'Date':[\"2015-12-06\", \"2011-12-27\", \"2015-09-07\", \"2012-12-21\", \"2020-02-13\", \"2015-06-09\"],\n",
    "                   'RID':[498, 721, 375, 464, 813, 853],\n",
    "                   'Phy':[22, 45, 1, 65, 22, 17],\n",
    "                   'Chem':[52, 56, 32, 50, 24, 61],\n",
    "                   'Math':[63, 37, 68, 62, 43 ,42]})"
   ]
  },
  {
   "cell_type": "code",
   "execution_count": 24,
   "id": "29d3bb4d",
   "metadata": {},
   "outputs": [],
   "source": [
    "df['Date'] = pd.to_datetime(df['Date'])"
   ]
  },
  {
   "cell_type": "code",
   "execution_count": 30,
   "id": "94e388b1",
   "metadata": {},
   "outputs": [],
   "source": [
    "df['month'] = df['Date'].dt.month"
   ]
  },
  {
   "cell_type": "code",
   "execution_count": 35,
   "id": "a48f427a",
   "metadata": {},
   "outputs": [],
   "source": [
    "\n",
    "# Find the month with the maximum registrations\n",
    "max_month = df['Month'].value_counts().idxmax()\n",
    "\n",
    "# Filter the DataFrame to include only the rows for the month with maximum registrations\n",
    "max_month_df = df[df['Month'] == max_month]\n",
    "\n",
    "# Calculate the average marks for each subject\n",
    "avg_marks = max_month_df[['Phy', 'Chem', 'Math']].mean()"
   ]
  },
  {
   "cell_type": "code",
   "execution_count": 36,
   "id": "9d68b068",
   "metadata": {},
   "outputs": [
    {
     "name": "stdout",
     "output_type": "stream",
     "text": [
      "Month with Maximum Registrations: 2015-12\n",
      "Average Marks in Physics: 22.0\n",
      "Average Marks in Chemistry: 52.0\n",
      "Average Marks in Mathematics: 63.0\n"
     ]
    }
   ],
   "source": [
    "print(\"Month with Maximum Registrations:\", max_month)\n",
    "print(\"Average Marks in Physics:\", avg_marks['Phy'])\n",
    "print(\"Average Marks in Chemistry:\", avg_marks['Chem'])\n",
    "print(\"Average Marks in Mathematics:\", avg_marks['Math'])"
   ]
  },
  {
   "cell_type": "code",
   "execution_count": 37,
   "id": "3ceb955a",
   "metadata": {},
   "outputs": [],
   "source": [
    "# next"
   ]
  },
  {
   "cell_type": "code",
   "execution_count": 54,
   "id": "a4964859",
   "metadata": {},
   "outputs": [],
   "source": [
    "# Given the data frame df as input, do the following steps for preprocessing:\n",
    "\n",
    "# 1. Remove the row if all the columns have missing values.\n",
    "\n",
    "# 2. Replace the missing values of “Roll_ID” column with 0 and “Name” column with “Anonymous”\n",
    "\n",
    "# 3. Replace the missing values in “Marks” column with the median value of the column\n",
    "\n",
    "# 4. Change the numerical columns (Roll_ID and Marks) to int datatype in the output"
   ]
  },
  {
   "cell_type": "code",
   "execution_count": 73,
   "id": "60086323",
   "metadata": {},
   "outputs": [],
   "source": [
    "df = pd.DataFrame({'Roll_id':[412,np.nan,456,np.nan,434,429,418],\n",
    "                  'Name':['John','Mitra','Ritz',np.nan,'Anny','Hema',np.nan],\n",
    "                  'Marks':[np.nan,32,25,np.nan,35,28,38]})"
   ]
  },
  {
   "cell_type": "code",
   "execution_count": 74,
   "id": "b76ff843",
   "metadata": {},
   "outputs": [],
   "source": [
    "# Step 1: Remove rows with all missing values\n",
    "df.dropna(how='all', inplace=True)\n",
    "\n",
    "# Step 2: Replace missing values in 'Roll_ID' and 'Name' columns\n",
    "df['Roll_id'].fillna(0, inplace=True)\n",
    "df['Name'].fillna('Anonymous', inplace=True)\n",
    "\n",
    "# Step 3: Replace missing values in 'Marks' column with the median\n",
    "median_marks = df['Marks'].median()\n",
    "df['Marks'].fillna(median_marks, inplace=True)\n",
    "\n"
   ]
  },
  {
   "cell_type": "code",
   "execution_count": 75,
   "id": "bf811c4c",
   "metadata": {},
   "outputs": [
    {
     "data": {
      "text/html": [
       "<div>\n",
       "<style scoped>\n",
       "    .dataframe tbody tr th:only-of-type {\n",
       "        vertical-align: middle;\n",
       "    }\n",
       "\n",
       "    .dataframe tbody tr th {\n",
       "        vertical-align: top;\n",
       "    }\n",
       "\n",
       "    .dataframe thead th {\n",
       "        text-align: right;\n",
       "    }\n",
       "</style>\n",
       "<table border=\"1\" class=\"dataframe\">\n",
       "  <thead>\n",
       "    <tr style=\"text-align: right;\">\n",
       "      <th></th>\n",
       "      <th>Roll_id</th>\n",
       "      <th>Name</th>\n",
       "      <th>Marks</th>\n",
       "    </tr>\n",
       "  </thead>\n",
       "  <tbody>\n",
       "    <tr>\n",
       "      <th>0</th>\n",
       "      <td>412.0</td>\n",
       "      <td>John</td>\n",
       "      <td>32.0</td>\n",
       "    </tr>\n",
       "    <tr>\n",
       "      <th>1</th>\n",
       "      <td>0.0</td>\n",
       "      <td>Mitra</td>\n",
       "      <td>32.0</td>\n",
       "    </tr>\n",
       "    <tr>\n",
       "      <th>2</th>\n",
       "      <td>456.0</td>\n",
       "      <td>Ritz</td>\n",
       "      <td>25.0</td>\n",
       "    </tr>\n",
       "    <tr>\n",
       "      <th>4</th>\n",
       "      <td>434.0</td>\n",
       "      <td>Anny</td>\n",
       "      <td>35.0</td>\n",
       "    </tr>\n",
       "    <tr>\n",
       "      <th>5</th>\n",
       "      <td>429.0</td>\n",
       "      <td>Hema</td>\n",
       "      <td>28.0</td>\n",
       "    </tr>\n",
       "    <tr>\n",
       "      <th>6</th>\n",
       "      <td>418.0</td>\n",
       "      <td>Anonymous</td>\n",
       "      <td>38.0</td>\n",
       "    </tr>\n",
       "  </tbody>\n",
       "</table>\n",
       "</div>"
      ],
      "text/plain": [
       "   Roll_id       Name  Marks\n",
       "0    412.0       John   32.0\n",
       "1      0.0      Mitra   32.0\n",
       "2    456.0       Ritz   25.0\n",
       "4    434.0       Anny   35.0\n",
       "5    429.0       Hema   28.0\n",
       "6    418.0  Anonymous   38.0"
      ]
     },
     "execution_count": 75,
     "metadata": {},
     "output_type": "execute_result"
    }
   ],
   "source": [
    "df"
   ]
  },
  {
   "cell_type": "code",
   "execution_count": null,
   "id": "80c92a90",
   "metadata": {},
   "outputs": [],
   "source": [
    "# Step 4: Change numerical columns to int datatype\n",
    "df['Roll_ID'] = df['Roll_ID'].astype(int)\n",
    "df['Marks'] = df['Marks'].astype(int)\n"
   ]
  }
 ],
 "metadata": {
  "kernelspec": {
   "display_name": "Python 3 (ipykernel)",
   "language": "python",
   "name": "python3"
  },
  "language_info": {
   "codemirror_mode": {
    "name": "ipython",
    "version": 3
   },
   "file_extension": ".py",
   "mimetype": "text/x-python",
   "name": "python",
   "nbconvert_exporter": "python",
   "pygments_lexer": "ipython3",
   "version": "3.11.2"
  }
 },
 "nbformat": 4,
 "nbformat_minor": 5
}
